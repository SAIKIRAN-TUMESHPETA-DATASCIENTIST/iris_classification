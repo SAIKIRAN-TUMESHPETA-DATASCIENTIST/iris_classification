{
 "cells": [
  {
   "cell_type": "markdown",
   "id": "d0b3afb0-f177-48da-b53b-c5b18ce66d5a",
   "metadata": {},
   "source": [
    "# import libraries"
   ]
  },
  {
   "cell_type": "code",
   "execution_count": 1,
   "id": "cb683299-19c4-4115-90b6-d14e16b01fa8",
   "metadata": {},
   "outputs": [],
   "source": [
    "#import libraries\n",
    "# Importing Numpy & Pandas for data processing & data wrangling\n",
    "import numpy as np\n",
    "import pandas as pd\n",
    "\n",
    "# Importing  tools for visualization\n",
    "import matplotlib.pyplot as plt\n",
    "import seaborn as sns\n",
    "\n",
    "# Import evaluation metric libraries\n",
    "from sklearn.metrics import confusion_matrix, accuracy_score, precision_score, recall_score, f1_score, classification_report\n",
    "\n",
    "# Library used for data preprocessing\n",
    "from sklearn.preprocessing import LabelEncoder\n",
    "\n",
    "# Import model selection libraries\n",
    "from sklearn.model_selection import train_test_split, GridSearchCV, RandomizedSearchCV, RepeatedStratifiedKFold\n",
    "\n",
    "# Library used for ML Model implementation\n",
    "from sklearn.linear_model import LogisticRegression\n",
    "from sklearn.tree import DecisionTreeClassifier\n",
    "from sklearn.ensemble import RandomForestClassifier\n",
    "from sklearn.svm import SVC\n",
    "from sklearn.neural_network import MLPClassifier\n",
    "from sklearn.naive_bayes import GaussianNB\n",
    "import xgboost as xgb\n",
    "\n",
    "# Library used for ignore warnings\n",
    "import warnings\n",
    "warnings.filterwarnings('ignore')\n",
    "%matplotlib inline"
   ]
  },
  {
   "cell_type": "markdown",
   "id": "f47464c5-1889-4162-b50d-8184f053d505",
   "metadata": {},
   "source": [
    "# Loading Data"
   ]
  },
  {
   "cell_type": "code",
   "execution_count": 2,
   "id": "16371fbe-6250-4b36-8d68-3673ed7a2eaa",
   "metadata": {},
   "outputs": [],
   "source": [
    "df=pd.read_csv(r'files/iris.csv')"
   ]
  },
  {
   "cell_type": "markdown",
   "id": "c6af621e-18f1-44e7-9f84-09f21cce00f9",
   "metadata": {},
   "source": [
    "# 1.Data handling"
   ]
  },
  {
   "cell_type": "markdown",
   "id": "dc581834-87ee-4a8b-b249-52b5bb63b341",
   "metadata": {},
   "source": [
    "# dataset top 5 rows views"
   ]
  },
  {
   "cell_type": "code",
   "execution_count": 3,
   "id": "a3d3101c-33a0-4f80-b738-76f9e55ed478",
   "metadata": {},
   "outputs": [
    {
     "data": {
      "text/html": [
       "<div>\n",
       "<style scoped>\n",
       "    .dataframe tbody tr th:only-of-type {\n",
       "        vertical-align: middle;\n",
       "    }\n",
       "\n",
       "    .dataframe tbody tr th {\n",
       "        vertical-align: top;\n",
       "    }\n",
       "\n",
       "    .dataframe thead th {\n",
       "        text-align: right;\n",
       "    }\n",
       "</style>\n",
       "<table border=\"1\" class=\"dataframe\">\n",
       "  <thead>\n",
       "    <tr style=\"text-align: right;\">\n",
       "      <th></th>\n",
       "      <th>SepalLengthCm</th>\n",
       "      <th>SepalWidthCm</th>\n",
       "      <th>PetalLengthCm</th>\n",
       "      <th>PetalWidthCm</th>\n",
       "      <th>Species</th>\n",
       "    </tr>\n",
       "  </thead>\n",
       "  <tbody>\n",
       "    <tr>\n",
       "      <th>0</th>\n",
       "      <td>5.1</td>\n",
       "      <td>3.5</td>\n",
       "      <td>1.4</td>\n",
       "      <td>0.2</td>\n",
       "      <td>Iris-setosa</td>\n",
       "    </tr>\n",
       "    <tr>\n",
       "      <th>1</th>\n",
       "      <td>4.9</td>\n",
       "      <td>3.0</td>\n",
       "      <td>1.4</td>\n",
       "      <td>0.2</td>\n",
       "      <td>Iris-setosa</td>\n",
       "    </tr>\n",
       "    <tr>\n",
       "      <th>2</th>\n",
       "      <td>4.7</td>\n",
       "      <td>3.2</td>\n",
       "      <td>1.3</td>\n",
       "      <td>0.2</td>\n",
       "      <td>Iris-setosa</td>\n",
       "    </tr>\n",
       "    <tr>\n",
       "      <th>3</th>\n",
       "      <td>4.6</td>\n",
       "      <td>3.1</td>\n",
       "      <td>1.5</td>\n",
       "      <td>0.2</td>\n",
       "      <td>Iris-setosa</td>\n",
       "    </tr>\n",
       "    <tr>\n",
       "      <th>4</th>\n",
       "      <td>5.0</td>\n",
       "      <td>3.6</td>\n",
       "      <td>1.4</td>\n",
       "      <td>0.2</td>\n",
       "      <td>Iris-setosa</td>\n",
       "    </tr>\n",
       "  </tbody>\n",
       "</table>\n",
       "</div>"
      ],
      "text/plain": [
       "   SepalLengthCm  SepalWidthCm  PetalLengthCm  PetalWidthCm      Species\n",
       "0            5.1           3.5            1.4           0.2  Iris-setosa\n",
       "1            4.9           3.0            1.4           0.2  Iris-setosa\n",
       "2            4.7           3.2            1.3           0.2  Iris-setosa\n",
       "3            4.6           3.1            1.5           0.2  Iris-setosa\n",
       "4            5.0           3.6            1.4           0.2  Iris-setosa"
      ]
     },
     "execution_count": 3,
     "metadata": {},
     "output_type": "execute_result"
    }
   ],
   "source": [
    "df.head()"
   ]
  },
  {
   "cell_type": "markdown",
   "id": "d2b49f05-955b-460e-8e3b-bc98066b7b0f",
   "metadata": {},
   "source": [
    "# Dataset Rows & columns count"
   ]
  },
  {
   "cell_type": "code",
   "execution_count": 4,
   "id": "7af1820d-d24b-4e10-add6-b35bcb8cb078",
   "metadata": {},
   "outputs": [
    {
     "name": "stdout",
     "output_type": "stream",
     "text": [
      "Number of rows are :  150\n",
      "Number of columns are :  5\n"
     ]
    }
   ],
   "source": [
    "print(\"Number of rows are : \",  df.shape[0])\n",
    "print(\"Number of columns are : \", df.shape[1])"
   ]
  },
  {
   "cell_type": "markdown",
   "id": "39bf88cf-dbe9-4849-ba6f-4dca2db71092",
   "metadata": {},
   "source": [
    "# Dataset Information"
   ]
  },
  {
   "cell_type": "code",
   "execution_count": 5,
   "id": "6a4b47ca-35f2-4915-b5f7-f80988b84504",
   "metadata": {},
   "outputs": [
    {
     "name": "stdout",
     "output_type": "stream",
     "text": [
      "<class 'pandas.core.frame.DataFrame'>\n",
      "RangeIndex: 150 entries, 0 to 149\n",
      "Data columns (total 5 columns):\n",
      " #   Column         Non-Null Count  Dtype  \n",
      "---  ------         --------------  -----  \n",
      " 0   SepalLengthCm  150 non-null    float64\n",
      " 1   SepalWidthCm   150 non-null    float64\n",
      " 2   PetalLengthCm  150 non-null    float64\n",
      " 3   PetalWidthCm   150 non-null    float64\n",
      " 4   Species        150 non-null    object \n",
      "dtypes: float64(4), object(1)\n",
      "memory usage: 6.0+ KB\n"
     ]
    }
   ],
   "source": [
    "#checking dataset using info\n",
    "df.info()"
   ]
  },
  {
   "cell_type": "code",
   "execution_count": 6,
   "id": "45b47866-7e53-4135-99c8-f5193f3cf1e4",
   "metadata": {},
   "outputs": [],
   "source": [
    "# checking duplicates"
   ]
  },
  {
   "cell_type": "code",
   "execution_count": 7,
   "id": "5e717d97-7b39-42f8-be73-3d7f3ef8cb18",
   "metadata": {},
   "outputs": [
    {
     "name": "stdout",
     "output_type": "stream",
     "text": [
      "number of duplicated rows are 3\n"
     ]
    }
   ],
   "source": [
    "#dataset duplicates value Count\n",
    "dup = df.duplicated().sum()\n",
    "print(f'number of duplicated rows are {dup}')"
   ]
  },
  {
   "cell_type": "markdown",
   "id": "d604ed4f-4084-466f-bf47-56ed30d29056",
   "metadata": {},
   "source": [
    "# removing duplicates"
   ]
  },
  {
   "cell_type": "code",
   "execution_count": 8,
   "id": "ce4e35d2-9184-44a3-b3f6-d52dbde4bde6",
   "metadata": {},
   "outputs": [],
   "source": [
    "#removing duplicates\n",
    "new_df=df.drop_duplicates()"
   ]
  },
  {
   "cell_type": "code",
   "execution_count": 9,
   "id": "e5efca5d-6e3a-4e1e-8384-175449c684c7",
   "metadata": {},
   "outputs": [
    {
     "data": {
      "text/plain": [
       "(147, 5)"
      ]
     },
     "execution_count": 9,
     "metadata": {},
     "output_type": "execute_result"
    }
   ],
   "source": [
    "#rows and columns after removing duplicates\n",
    "new_df.shape"
   ]
  },
  {
   "cell_type": "markdown",
   "id": "64b770d6-4dda-4f5e-8e33-5ccde95ff5b7",
   "metadata": {},
   "source": [
    "# checking missing/null values"
   ]
  },
  {
   "cell_type": "code",
   "execution_count": 10,
   "id": "ce8ce5b8-1742-4e56-bd3f-46f4d96699ee",
   "metadata": {},
   "outputs": [
    {
     "data": {
      "text/plain": [
       "SepalLengthCm    0\n",
       "SepalWidthCm     0\n",
       "PetalLengthCm    0\n",
       "PetalWidthCm     0\n",
       "Species          0\n",
       "dtype: int64"
      ]
     },
     "execution_count": 10,
     "metadata": {},
     "output_type": "execute_result"
    }
   ],
   "source": [
    "new_df.isnull().sum().sort_values(ascending=False)"
   ]
  },
  {
   "cell_type": "markdown",
   "id": "0182dc68-157a-42a5-bbc1-50ef83ca5b4a",
   "metadata": {},
   "source": [
    " # 2. Understanding the variables"
   ]
  },
  {
   "cell_type": "code",
   "execution_count": 11,
   "id": "1e6cbb7d-a99d-4fd3-b518-7d5fbfd8e3d9",
   "metadata": {},
   "outputs": [
    {
     "data": {
      "text/plain": [
       "Index(['SepalLengthCm', 'SepalWidthCm', 'PetalLengthCm', 'PetalWidthCm',\n",
       "       'Species'],\n",
       "      dtype='object')"
      ]
     },
     "execution_count": 11,
     "metadata": {},
     "output_type": "execute_result"
    }
   ],
   "source": [
    "# Dataset Columns\n",
    "new_df.columns"
   ]
  },
  {
   "cell_type": "code",
   "execution_count": 12,
   "id": "9acffe98-6725-471e-b796-e1d581c0cee5",
   "metadata": {},
   "outputs": [
    {
     "data": {
      "text/html": [
       "<div>\n",
       "<style scoped>\n",
       "    .dataframe tbody tr th:only-of-type {\n",
       "        vertical-align: middle;\n",
       "    }\n",
       "\n",
       "    .dataframe tbody tr th {\n",
       "        vertical-align: top;\n",
       "    }\n",
       "\n",
       "    .dataframe thead th {\n",
       "        text-align: right;\n",
       "    }\n",
       "</style>\n",
       "<table border=\"1\" class=\"dataframe\">\n",
       "  <thead>\n",
       "    <tr style=\"text-align: right;\">\n",
       "      <th></th>\n",
       "      <th>SepalLengthCm</th>\n",
       "      <th>SepalWidthCm</th>\n",
       "      <th>PetalLengthCm</th>\n",
       "      <th>PetalWidthCm</th>\n",
       "      <th>Species</th>\n",
       "    </tr>\n",
       "  </thead>\n",
       "  <tbody>\n",
       "    <tr>\n",
       "      <th>count</th>\n",
       "      <td>147.00</td>\n",
       "      <td>147.00</td>\n",
       "      <td>147.00</td>\n",
       "      <td>147.00</td>\n",
       "      <td>147</td>\n",
       "    </tr>\n",
       "    <tr>\n",
       "      <th>unique</th>\n",
       "      <td>NaN</td>\n",
       "      <td>NaN</td>\n",
       "      <td>NaN</td>\n",
       "      <td>NaN</td>\n",
       "      <td>3</td>\n",
       "    </tr>\n",
       "    <tr>\n",
       "      <th>top</th>\n",
       "      <td>NaN</td>\n",
       "      <td>NaN</td>\n",
       "      <td>NaN</td>\n",
       "      <td>NaN</td>\n",
       "      <td>Iris-versicolor</td>\n",
       "    </tr>\n",
       "    <tr>\n",
       "      <th>freq</th>\n",
       "      <td>NaN</td>\n",
       "      <td>NaN</td>\n",
       "      <td>NaN</td>\n",
       "      <td>NaN</td>\n",
       "      <td>50</td>\n",
       "    </tr>\n",
       "    <tr>\n",
       "      <th>mean</th>\n",
       "      <td>5.86</td>\n",
       "      <td>3.06</td>\n",
       "      <td>3.78</td>\n",
       "      <td>1.21</td>\n",
       "      <td>NaN</td>\n",
       "    </tr>\n",
       "    <tr>\n",
       "      <th>std</th>\n",
       "      <td>0.83</td>\n",
       "      <td>0.44</td>\n",
       "      <td>1.76</td>\n",
       "      <td>0.76</td>\n",
       "      <td>NaN</td>\n",
       "    </tr>\n",
       "    <tr>\n",
       "      <th>min</th>\n",
       "      <td>4.30</td>\n",
       "      <td>2.00</td>\n",
       "      <td>1.00</td>\n",
       "      <td>0.10</td>\n",
       "      <td>NaN</td>\n",
       "    </tr>\n",
       "    <tr>\n",
       "      <th>25%</th>\n",
       "      <td>5.10</td>\n",
       "      <td>2.80</td>\n",
       "      <td>1.60</td>\n",
       "      <td>0.30</td>\n",
       "      <td>NaN</td>\n",
       "    </tr>\n",
       "    <tr>\n",
       "      <th>50%</th>\n",
       "      <td>5.80</td>\n",
       "      <td>3.00</td>\n",
       "      <td>4.40</td>\n",
       "      <td>1.30</td>\n",
       "      <td>NaN</td>\n",
       "    </tr>\n",
       "    <tr>\n",
       "      <th>75%</th>\n",
       "      <td>6.40</td>\n",
       "      <td>3.30</td>\n",
       "      <td>5.10</td>\n",
       "      <td>1.80</td>\n",
       "      <td>NaN</td>\n",
       "    </tr>\n",
       "    <tr>\n",
       "      <th>max</th>\n",
       "      <td>7.90</td>\n",
       "      <td>4.40</td>\n",
       "      <td>6.90</td>\n",
       "      <td>2.50</td>\n",
       "      <td>NaN</td>\n",
       "    </tr>\n",
       "  </tbody>\n",
       "</table>\n",
       "</div>"
      ],
      "text/plain": [
       "        SepalLengthCm  SepalWidthCm  PetalLengthCm  PetalWidthCm  \\\n",
       "count          147.00        147.00         147.00        147.00   \n",
       "unique            NaN           NaN            NaN           NaN   \n",
       "top               NaN           NaN            NaN           NaN   \n",
       "freq              NaN           NaN            NaN           NaN   \n",
       "mean             5.86          3.06           3.78          1.21   \n",
       "std              0.83          0.44           1.76          0.76   \n",
       "min              4.30          2.00           1.00          0.10   \n",
       "25%              5.10          2.80           1.60          0.30   \n",
       "50%              5.80          3.00           4.40          1.30   \n",
       "75%              6.40          3.30           5.10          1.80   \n",
       "max              7.90          4.40           6.90          2.50   \n",
       "\n",
       "                Species  \n",
       "count               147  \n",
       "unique                3  \n",
       "top     Iris-versicolor  \n",
       "freq                 50  \n",
       "mean                NaN  \n",
       "std                 NaN  \n",
       "min                 NaN  \n",
       "25%                 NaN  \n",
       "50%                 NaN  \n",
       "75%                 NaN  \n",
       "max                 NaN  "
      ]
     },
     "execution_count": 12,
     "metadata": {},
     "output_type": "execute_result"
    }
   ],
   "source": [
    "# Dataset Describe (all columns included)\n",
    "new_df.describe(include= 'all').round(2)"
   ]
  },
  {
   "cell_type": "markdown",
   "id": "73afd6fd-6993-46c4-87bd-870acdf8531d",
   "metadata": {},
   "source": [
    "# checking unique values of each variable."
   ]
  },
  {
   "cell_type": "code",
   "execution_count": 13,
   "id": "1074b9e0-6511-4347-9715-9d5fe81d27a3",
   "metadata": {},
   "outputs": [
    {
     "name": "stdout",
     "output_type": "stream",
     "text": [
      "No. of unique values in SepalLengthCm is 35\n",
      "No. of unique values in SepalWidthCm is 23\n",
      "No. of unique values in PetalLengthCm is 43\n",
      "No. of unique values in PetalWidthCm is 22\n",
      "No. of unique values in Species is 3\n"
     ]
    }
   ],
   "source": [
    "# Check Unique Values for each variable.\n",
    "for i in new_df.columns.tolist():\n",
    "  print(\"No. of unique values in\",i,\"is\",new_df[i].nunique())"
   ]
  },
  {
   "cell_type": "markdown",
   "id": "45ebfc47-9429-485c-932b-cf486ed41f1e",
   "metadata": {},
   "source": [
    "# 3.Data_Visualization"
   ]
  },
  {
   "cell_type": "raw",
   "id": "d1db46cc-7c99-400a-ba8f-63c8fedd22d2",
   "metadata": {},
   "source": [
    "understanding the relationships betweeen variables"
   ]
  },
  {
   "cell_type": "markdown",
   "id": "16bb9d54-2bd3-4382-b65e-7513e5ae7fa6",
   "metadata": {},
   "source": [
    "## chart 1 : Distribution of Numerical Variables"
   ]
  },
  {
   "cell_type": "code",
   "execution_count": 14,
   "id": "57f99400-08a2-4b8b-8b79-67ed87e5cd7a",
   "metadata": {},
   "outputs": [
    {
     "data": {
      "image/png": "[encoded data removed]",
      "text/plain": [
       "<Figure size 800x600 with 4 Axes>"
      ]
     },
     "metadata": {},
     "output_type": "display_data"
    }
   ],
   "source": [
    "# Chart - 1 Histogram visualization code for distribution of numerical variables\n",
    "# Create a figure with subplots\n",
    "plt.figure(figsize=(8, 6))\n",
    "plt.suptitle('Distribution of Iris Flower Measurements', fontsize=14)\n",
    "\n",
    "# Create a 2x2 grid of subplots\n",
    "plt.subplot(2, 2, 1)  # Subplot 1 (Top-Left)\n",
    "plt.hist(new_df['SepalLengthCm'])\n",
    "plt.title('Sepal Length Distribution')\n",
    "\n",
    "plt.subplot(2, 2, 2)  # Subplot 2 (Top-Right)\n",
    "plt.hist(new_df['SepalWidthCm'])\n",
    "plt.title('Sepal Width Distribution')\n",
    "\n",
    "plt.subplot(2, 2, 3)  # Subplot 3 (Bottom-Left)\n",
    "plt.hist(new_df['PetalLengthCm'])\n",
    "plt.title('Petal Length Distribution')\n",
    "\n",
    "plt.subplot(2, 2, 4)  # Subplot 4 (Bottom-Right)\n",
    "plt.hist(new_df['PetalWidthCm'])\n",
    "plt.title('Petal Width Distribution')\n",
    "\n",
    "# Display the subplots\n",
    "plt.tight_layout()  # Helps in adjusting the layout\n",
    "plt.show()"
   ]
  },
  {
   "cell_type": "markdown",
   "id": "e3c3d096-35f2-468b-90e5-4696d55db9b3",
   "metadata": {},
   "source": [
    "## Chart - 2 : Sepal Length vs Sepal Width"
   ]
  },
  {
   "cell_type": "code",
   "execution_count": 15,
   "id": "309ef575-69ae-4913-903f-54ecd4ececad",
   "metadata": {},
   "outputs": [
    {
     "data": {
      "image/png": "[encoded data removed]",
      "text/plain": [
       "<Figure size 640x480 with 1 Axes>"
      ]
     },
     "metadata": {},
     "output_type": "display_data"
    }
   ],
   "source": [
    "# Chart - 2 Scatter plot visualization code for Sepal Length vs Sepal Width.\n",
    "# Define colors for each species and the corresponding species labels.\n",
    "colors = ['red', 'yellow', 'green']\n",
    "species = ['Iris-setosa', 'Iris-versicolor', 'Iris-virginica']\n",
    "     \n",
    "\n",
    "# Chart - 2 Scatter plot visualization code for Sepal Length vs Sepal Width.\n",
    "# Create a scatter plot for Sepal Length vs Sepal Width for each species.\n",
    "for i in range(3):\n",
    "    # Select data for the current species.\n",
    "    x = new_df[new_df['Species'] == species[i]]\n",
    "\n",
    "    # Create a scatter plot with the specified color and label for the current species.\n",
    "    plt.scatter(x['SepalLengthCm'], x['SepalWidthCm'], c=colors[i], label=species[i])\n",
    "\n",
    "# Add labels to the x and y axes.\n",
    "plt.xlabel('Sepal Length')\n",
    "plt.ylabel('Sepal Width')\n",
    "\n",
    "# Add a legend to identify species based on colors.\n",
    "plt.legend()\n",
    "\n",
    "# Display the scatter plot.\n",
    "plt.show()"
   ]
  },
  {
   "cell_type": "markdown",
   "id": "9a85eb5c-b194-401d-80c5-fc6815d57459",
   "metadata": {},
   "source": [
    "\n",
    "## Chart - 3 : Petal Length vs Petal Width"
   ]
  },
  {
   "cell_type": "code",
   "execution_count": 16,
   "id": "141e3982-783b-4c3c-992a-27615bac2ae8",
   "metadata": {},
   "outputs": [
    {
     "data": {
      "image/png": "[encoded data removed]",
      "text/plain": [
       "<Figure size 640x480 with 1 Axes>"
      ]
     },
     "metadata": {},
     "output_type": "display_data"
    }
   ],
   "source": [
    "# Chart - 3 Scatter plot visualization code for Petal Length vs Petal Width.\n",
    "# Create a scatter plot for Petal Length vs Petal Width for each species.\n",
    "for i in range(3):\n",
    "    # Select data for the current species.\n",
    "    x = new_df[new_df['Species'] == species[i]]\n",
    "\n",
    "    # Create a scatter plot with the specified color and label for the current species.\n",
    "    plt.scatter(x['PetalLengthCm'], x['PetalWidthCm'], c=colors[i], label=species[i])\n",
    "\n",
    "# Add labels to the x and y axes.\n",
    "plt.xlabel('Petal Length')\n",
    "plt.ylabel('Petal Width')\n",
    "\n",
    "# Add a legend to identify species based on colors.\n",
    "plt.legend()\n",
    "\n",
    "# Display the scatter plot.\n",
    "plt.show()"
   ]
  },
  {
   "cell_type": "markdown",
   "id": "cb572fd6-03ef-4fef-94d4-f2f92a77e152",
   "metadata": {},
   "source": [
    "## Chart - 4 : Sepal Length vs Petal Length"
   ]
  },
  {
   "cell_type": "code",
   "execution_count": 17,
   "id": "e6f663d1-474e-42a5-a444-6c60e4e9105f",
   "metadata": {},
   "outputs": [
    {
     "data": {
      "image/png": "[encoded data removed]",
      "text/plain": [
       "<Figure size 640x480 with 1 Axes>"
      ]
     },
     "metadata": {},
     "output_type": "display_data"
    }
   ],
   "source": [
    "\n",
    "# Chart - 4 Scatter plot visualization code for Sepal Length vs Petal Length.\n",
    "# Create a scatter plot for Sepal Length vs Petal Length for each species.\n",
    "for i in range(3):\n",
    "    # Select data for the current species.\n",
    "    x = new_df[new_df['Species'] == species[i]]\n",
    "\n",
    "    # Create a scatter plot with the specified color and label for the current species.\n",
    "    plt.scatter(x['SepalLengthCm'], x['PetalLengthCm'], c=colors[i], label=species[i])\n",
    "\n",
    "# Add labels to the x and y axes.\n",
    "plt.xlabel('Sepal Length')\n",
    "plt.ylabel('Petal Length')\n",
    "\n",
    "# Add a legend to identify species based on colors.\n",
    "plt.legend()\n",
    "\n",
    "# Display the scatter plot.\n",
    "plt.show()"
   ]
  },
  {
   "cell_type": "markdown",
   "id": "24a2ce89-b0ac-45c2-812b-ecfc7f9f7c28",
   "metadata": {},
   "source": [
    "## Chart - 5 : Sepal Width vs Petal Width"
   ]
  },
  {
   "cell_type": "code",
   "execution_count": 18,
   "id": "b1aa9dd5-1118-4e02-b7cc-a96642d4b6ac",
   "metadata": {},
   "outputs": [
    {
     "data": {
      "image/png": "[encoded data removed]",
      "text/plain": [
       "<Figure size 640x480 with 1 Axes>"
      ]
     },
     "metadata": {},
     "output_type": "display_data"
    }
   ],
   "source": [
    "# Chart - 5 Scatter plot visualization code for Sepal Width vs Petal Width.\n",
    "# Create a scatter plot for Sepal Width vs Petal Width for each species.\n",
    "for i in range(3):\n",
    "    # Select data for the current species.\n",
    "    x = new_df[new_df['Species'] == species[i]]\n",
    "\n",
    "    # Create a scatter plot with the specified color and label for the current species.\n",
    "    plt.scatter(x['SepalWidthCm'], x['PetalWidthCm'], c=colors[i], label=species[i])\n",
    "\n",
    "# Add labels to the x and y axes.\n",
    "plt.xlabel('Sepal Width')\n",
    "plt.ylabel('Petal Width')\n",
    "\n",
    "# Add a legend to identify species based on colors.\n",
    "plt.legend()\n",
    "\n",
    "# Display the scatter plot.\n",
    "plt.show()"
   ]
  },
  {
   "cell_type": "markdown",
   "id": "b185bcab-24c0-40a2-9459-99d3f65a7f7c",
   "metadata": {},
   "source": [
    " ## Chart - 6 : Correlation Heatmap"
   ]
  },
  {
   "cell_type": "code",
   "execution_count": 19,
   "id": "6c9409c3-168f-4d7e-a77a-e7e5117dba17",
   "metadata": {},
   "outputs": [
    {
     "data": {
      "image/png": "[encoded data removed]",
      "text/plain": [
       "<Figure size 800x400 with 2 Axes>"
      ]
     },
     "metadata": {},
     "output_type": "display_data"
    }
   ],
   "source": [
    "# Correlation Heatmap Visualization Code\n",
    "#conversion of coerr_data for correlation Heatmap\n",
    "coerr_data=new_df.drop('Species', axis='columns')\n",
    "corr_matrix = coerr_data.corr()\n",
    "\n",
    "# Plot Heatmap\n",
    "plt.figure(figsize=(8, 4))\n",
    "sns.heatmap(corr_matrix, annot=True, cmap='Reds_r')\n",
    "\n",
    "# Setting Labels\n",
    "plt.title('Correlation Matrix heatmap')\n",
    "\n",
    "# Display Chart\n",
    "plt.show()\n",
    "     "
   ]
  },
  {
   "cell_type": "markdown",
   "id": "e27a9761-ea8f-40d3-a344-bdb4c0a70de7",
   "metadata": {},
   "source": [
    "# 4-Feature engineering and Data pre-processing"
   ]
  },
  {
   "cell_type": "markdown",
   "id": "757aac17-300e-4b50-ab72-15a1c9d009cb",
   "metadata": {},
   "source": [
    "### 1.conversion of categorical data "
   ]
  },
  {
   "cell_type": "code",
   "execution_count": 20,
   "id": "9fab40cd-d16a-491c-a946-984f4c8ea02d",
   "metadata": {},
   "outputs": [
    {
     "name": "stdout",
     "output_type": "stream",
     "text": [
      "Encoded Species Values:\n",
      "[0 1 2]\n"
     ]
    }
   ],
   "source": [
    "# Encode the categorical columns\n",
    "# Create a LabelEncoder object\n",
    "le = LabelEncoder()\n",
    "\n",
    "# Encode the 'Species' column to convert the species names to numerical labels\n",
    "new_df['Species'] = le.fit_transform(new_df['Species'])\n",
    "\n",
    "# Check the unique values in the 'Species' column after encoding\n",
    "unique_species = new_df['Species'].unique()\n",
    "\n",
    "# Display the unique encoded values\n",
    "print(\"Encoded Species Values:\")\n",
    "print(unique_species) # 'Iris-setosa' == 0, 'Iris-versicolor' == 1, 'Iris-virginica' == 2\n",
    "     "
   ]
  },
  {
   "cell_type": "code",
   "execution_count": 21,
   "id": "b74c908c-cf0c-422e-b9f5-ed60fb523cd3",
   "metadata": {},
   "outputs": [
    {
     "data": {
      "text/html": [
       "<div>\n",
       "<style scoped>\n",
       "    .dataframe tbody tr th:only-of-type {\n",
       "        vertical-align: middle;\n",
       "    }\n",
       "\n",
       "    .dataframe tbody tr th {\n",
       "        vertical-align: top;\n",
       "    }\n",
       "\n",
       "    .dataframe thead th {\n",
       "        text-align: right;\n",
       "    }\n",
       "</style>\n",
       "<table border=\"1\" class=\"dataframe\">\n",
       "  <thead>\n",
       "    <tr style=\"text-align: right;\">\n",
       "      <th></th>\n",
       "      <th>SepalLengthCm</th>\n",
       "      <th>SepalWidthCm</th>\n",
       "      <th>PetalLengthCm</th>\n",
       "      <th>PetalWidthCm</th>\n",
       "      <th>Species</th>\n",
       "    </tr>\n",
       "  </thead>\n",
       "  <tbody>\n",
       "    <tr>\n",
       "      <th>0</th>\n",
       "      <td>5.1</td>\n",
       "      <td>3.5</td>\n",
       "      <td>1.4</td>\n",
       "      <td>0.2</td>\n",
       "      <td>0</td>\n",
       "    </tr>\n",
       "    <tr>\n",
       "      <th>1</th>\n",
       "      <td>4.9</td>\n",
       "      <td>3.0</td>\n",
       "      <td>1.4</td>\n",
       "      <td>0.2</td>\n",
       "      <td>0</td>\n",
       "    </tr>\n",
       "    <tr>\n",
       "      <th>2</th>\n",
       "      <td>4.7</td>\n",
       "      <td>3.2</td>\n",
       "      <td>1.3</td>\n",
       "      <td>0.2</td>\n",
       "      <td>0</td>\n",
       "    </tr>\n",
       "    <tr>\n",
       "      <th>3</th>\n",
       "      <td>4.6</td>\n",
       "      <td>3.1</td>\n",
       "      <td>1.5</td>\n",
       "      <td>0.2</td>\n",
       "      <td>0</td>\n",
       "    </tr>\n",
       "    <tr>\n",
       "      <th>4</th>\n",
       "      <td>5.0</td>\n",
       "      <td>3.6</td>\n",
       "      <td>1.4</td>\n",
       "      <td>0.2</td>\n",
       "      <td>0</td>\n",
       "    </tr>\n",
       "    <tr>\n",
       "      <th>...</th>\n",
       "      <td>...</td>\n",
       "      <td>...</td>\n",
       "      <td>...</td>\n",
       "      <td>...</td>\n",
       "      <td>...</td>\n",
       "    </tr>\n",
       "    <tr>\n",
       "      <th>145</th>\n",
       "      <td>6.7</td>\n",
       "      <td>3.0</td>\n",
       "      <td>5.2</td>\n",
       "      <td>2.3</td>\n",
       "      <td>2</td>\n",
       "    </tr>\n",
       "    <tr>\n",
       "      <th>146</th>\n",
       "      <td>6.3</td>\n",
       "      <td>2.5</td>\n",
       "      <td>5.0</td>\n",
       "      <td>1.9</td>\n",
       "      <td>2</td>\n",
       "    </tr>\n",
       "    <tr>\n",
       "      <th>147</th>\n",
       "      <td>6.5</td>\n",
       "      <td>3.0</td>\n",
       "      <td>5.2</td>\n",
       "      <td>2.0</td>\n",
       "      <td>2</td>\n",
       "    </tr>\n",
       "    <tr>\n",
       "      <th>148</th>\n",
       "      <td>6.2</td>\n",
       "      <td>3.4</td>\n",
       "      <td>5.4</td>\n",
       "      <td>2.3</td>\n",
       "      <td>2</td>\n",
       "    </tr>\n",
       "    <tr>\n",
       "      <th>149</th>\n",
       "      <td>5.9</td>\n",
       "      <td>3.0</td>\n",
       "      <td>5.1</td>\n",
       "      <td>1.8</td>\n",
       "      <td>2</td>\n",
       "    </tr>\n",
       "  </tbody>\n",
       "</table>\n",
       "<p>147 rows × 5 columns</p>\n",
       "</div>"
      ],
      "text/plain": [
       "     SepalLengthCm  SepalWidthCm  PetalLengthCm  PetalWidthCm  Species\n",
       "0              5.1           3.5            1.4           0.2        0\n",
       "1              4.9           3.0            1.4           0.2        0\n",
       "2              4.7           3.2            1.3           0.2        0\n",
       "3              4.6           3.1            1.5           0.2        0\n",
       "4              5.0           3.6            1.4           0.2        0\n",
       "..             ...           ...            ...           ...      ...\n",
       "145            6.7           3.0            5.2           2.3        2\n",
       "146            6.3           2.5            5.0           1.9        2\n",
       "147            6.5           3.0            5.2           2.0        2\n",
       "148            6.2           3.4            5.4           2.3        2\n",
       "149            5.9           3.0            5.1           1.8        2\n",
       "\n",
       "[147 rows x 5 columns]"
      ]
     },
     "execution_count": 21,
     "metadata": {},
     "output_type": "execute_result"
    }
   ],
   "source": [
    "new_df"
   ]
  },
  {
   "cell_type": "markdown",
   "id": "2f9506d7-7e90-4f3c-a350-668bb59047f8",
   "metadata": {},
   "source": [
    "## 2. Data scaling"
   ]
  },
  {
   "cell_type": "code",
   "execution_count": 22,
   "id": "b5feadfe-eb83-4fec-b663-f1254ebadbaf",
   "metadata": {},
   "outputs": [],
   "source": [
    "#Defining  the X and y  for model training\n",
    "X=new_df.drop('Species',axis='columns')\n",
    "y=new_df.Species"
   ]
  },
  {
   "cell_type": "markdown",
   "id": "0dc977ca-9b91-431c-a222-35f426457328",
   "metadata": {},
   "source": [
    "## 3. Data spliting "
   ]
  },
  {
   "cell_type": "code",
   "execution_count": 23,
   "id": "9a7b1f3b-16b4-4560-ad7f-89e7ac39a6c1",
   "metadata": {},
   "outputs": [],
   "source": [
    "# Splitting the data to train and test\n",
    "X_train,X_test,y_train,y_test=train_test_split(X,y, test_size=0.3)"
   ]
  },
  {
   "cell_type": "code",
   "execution_count": 24,
   "id": "1bf5950e-c03c-4ad4-8eff-aa88b93120b4",
   "metadata": {},
   "outputs": [
    {
     "data": {
      "text/plain": [
       "Species\n",
       "2    18\n",
       "1    15\n",
       "0    12\n",
       "Name: count, dtype: int64"
      ]
     },
     "execution_count": 24,
     "metadata": {},
     "output_type": "execute_result"
    }
   ],
   "source": [
    "# Checking the train distribution of dependent variable\n",
    "y_test.value_counts()"
   ]
  },
  {
   "cell_type": "markdown",
   "id": "9824b885-a7a5-488e-bd8d-458f50a47b9d",
   "metadata": {},
   "source": [
    "# 5- ML MODEL IMPLEMENTATION"
   ]
  },
  {
   "cell_type": "code",
   "execution_count": 25,
   "id": "1a3052b6-783a-4490-919a-680fc8e72b81",
   "metadata": {},
   "outputs": [],
   "source": [
    "def evaluate_model(model, x_train, x_test, y_train, y_test):\n",
    "    \n",
    "    # Fit the model to the training data.\n",
    "    model.fit(x_train, y_train)\n",
    "\n",
    "    # make predictions on the test data\n",
    "    y_pred_train = model.predict(X_train)\n",
    "    y_pred_test = model.predict(X_test)\n",
    "\n",
    "    # calculate confusion matrix\n",
    "    cm_train = confusion_matrix(y_train, y_pred_train)\n",
    "    cm_test = confusion_matrix(y_test, y_pred_test)\n",
    "\n",
    "    fig, ax = plt.subplots(1, 2, figsize=(11,4))\n",
    "\n",
    "    print(\"\\nConfusion Matrix:\")\n",
    "    sns.heatmap(cm_train, annot=True, xticklabels=['Negative', 'Positive'], yticklabels=['Negative', 'Positive'], cmap=\"Oranges\", fmt='.4g', ax=ax[0])\n",
    "    ax[0].set_xlabel(\"Predicted Label\")\n",
    "    ax[0].set_ylabel(\"True Label\")\n",
    "    ax[0].set_title(\"Train Confusion Matrix\")\n",
    "\n",
    "    sns.heatmap(cm_test, annot=True, xticklabels=['Negative', 'Positive'], yticklabels=['Negative', 'Positive'], cmap=\"Oranges\", fmt='.4g', ax=ax[1])\n",
    "    ax[1].set_xlabel(\"Predicted Label\")\n",
    "    ax[1].set_ylabel(\"True Label\")\n",
    "    ax[1].set_title(\"Test Confusion Matrix\")\n",
    "\n",
    "    plt.tight_layout()\n",
    "    plt.show()\n",
    "\n",
    "\n",
    "    # calculate classification report\n",
    "    cr_train = classification_report(y_train, y_pred_train, output_dict=True)\n",
    "    cr_test = classification_report(y_test, y_pred_test, output_dict=True)\n",
    "    print(\"\\nTrain Classification Report:\")\n",
    "    crt = pd.DataFrame(cr_train).T\n",
    "    print(crt.to_markdown())\n",
    "    # sns.heatmap(pd.DataFrame(cr_train).T.iloc[:, :-1], annot=True, cmap=\"Blues\")\n",
    "    print(\"\\nTest Classification Report:\")\n",
    "    crt2 = pd.DataFrame(cr_test).T\n",
    "    print(crt2.to_markdown())\n",
    "    # sns.heatmap(pd.DataFrame(cr_test).T.iloc[:, :-1], annot=True, cmap=\"Blues\")\n",
    "\n",
    "    precision_train = cr_train['weighted avg']['precision']\n",
    "    precision_test = cr_test['weighted avg']['precision']\n",
    "\n",
    "    recall_train = cr_train['weighted avg']['recall']\n",
    "    recall_test = cr_test['weighted avg']['recall']\n",
    "\n",
    "    acc_train = accuracy_score(y_true = y_train, y_pred = y_pred_train)\n",
    "    acc_test = accuracy_score(y_true = y_test, y_pred = y_pred_test)\n",
    "\n",
    "    F1_train = cr_train['weighted avg']['f1-score']\n",
    "    F1_test = cr_test['weighted avg']['f1-score']\n",
    "\n",
    "    model_score = [precision_train, precision_test, recall_train, recall_test, acc_train, acc_test, F1_train, F1_test ]\n",
    "    return model_score\n",
    "     \n",
    "    "
   ]
  },
  {
   "cell_type": "code",
   "execution_count": 26,
   "id": "a058721c-fb15-48be-92bc-9ad986d401b9",
   "metadata": {},
   "outputs": [],
   "source": [
    "# Create a score dataframe\n",
    "score = pd.DataFrame(index = ['Precision Train', 'Precision Test','Recall Train','Recall Test','Accuracy Train', 'Accuracy Test', 'F1 macro Train', 'F1 macro Test'])\n",
    "     "
   ]
  },
  {
   "cell_type": "code",
   "execution_count": null,
   "id": "f5724e08-ebd7-432d-b431-3fa9fba1e3e3",
   "metadata": {},
   "outputs": [],
   "source": []
  },
  {
   "cell_type": "markdown",
   "id": "f18d0d67-b804-459a-b0e4-d55ea54434f5",
   "metadata": {},
   "source": [
    "## Ml model-1: Logistic regression"
   ]
  },
  {
   "cell_type": "code",
   "execution_count": 27,
   "id": "1877a71f-fb2e-4bf2-b98e-840e223622a8",
   "metadata": {},
   "outputs": [],
   "source": [
    "# ML Model - 1 Implementation\n",
    "lr_model = LogisticRegression(fit_intercept=True, max_iter=10000)\n",
    "\n",
    "# Model is trained (fit) and predicted in the evaluate model"
   ]
  },
  {
   "cell_type": "markdown",
   "id": "192546b1-1130-4f41-a74d-3c6748fb0c02",
   "metadata": {},
   "source": [
    "### 1. 1. Explain the ML Model used and it's performance using Evaluation metric Score Chart."
   ]
  },
  {
   "cell_type": "code",
   "execution_count": 28,
   "id": "512f1ffd-9809-4cd6-b7a7-d3b4e50a6a31",
   "metadata": {},
   "outputs": [
    {
     "name": "stdout",
     "output_type": "stream",
     "text": [
      "\n",
      "Confusion Matrix:\n"
     ]
    },
    {
     "data": {
      "image/png": "[encoded data removed]",
      "text/plain": [
       "<Figure size 1100x400 with 4 Axes>"
      ]
     },
     "metadata": {},
     "output_type": "display_data"
    },
    {
     "name": "stdout",
     "output_type": "stream",
     "text": [
      "\n",
      "Train Classification Report:\n",
      "|              |   precision |   recall |   f1-score |    support |\n",
      "|:-------------|------------:|---------:|-----------:|-----------:|\n",
      "| 0            |    1        | 1        |   1        |  36        |\n",
      "| 1            |    0.944444 | 0.971429 |   0.957746 |  35        |\n",
      "| 2            |    0.966667 | 0.935484 |   0.95082  |  31        |\n",
      "| accuracy     |    0.970588 | 0.970588 |   0.970588 |   0.970588 |\n",
      "| macro avg    |    0.97037  | 0.968971 |   0.969522 | 102        |\n",
      "| weighted avg |    0.970806 | 0.970588 |   0.970554 | 102        |\n",
      "\n",
      "Test Classification Report:\n",
      "|              |   precision |   recall |   f1-score |   support |\n",
      "|:-------------|------------:|---------:|-----------:|----------:|\n",
      "| 0            |    1        | 1        |   1        | 12        |\n",
      "| 1            |    0.933333 | 0.933333 |   0.933333 | 15        |\n",
      "| 2            |    0.944444 | 0.944444 |   0.944444 | 18        |\n",
      "| accuracy     |    0.955556 | 0.955556 |   0.955556 |  0.955556 |\n",
      "| macro avg    |    0.959259 | 0.959259 |   0.959259 | 45        |\n",
      "| weighted avg |    0.955556 | 0.955556 |   0.955556 | 45        |\n"
     ]
    }
   ],
   "source": [
    "\n",
    "# Visualizing evaluation Metric Score chart\n",
    "lr_score = evaluate_model(lr_model, X_train, X_test, y_train, y_test)\n",
    "     "
   ]
  },
  {
   "cell_type": "code",
   "execution_count": 29,
   "id": "3376cee7-c85a-479c-8ff0-cce2d52b725f",
   "metadata": {},
   "outputs": [
    {
     "data": {
      "text/html": [
       "<div>\n",
       "<style scoped>\n",
       "    .dataframe tbody tr th:only-of-type {\n",
       "        vertical-align: middle;\n",
       "    }\n",
       "\n",
       "    .dataframe tbody tr th {\n",
       "        vertical-align: top;\n",
       "    }\n",
       "\n",
       "    .dataframe thead th {\n",
       "        text-align: right;\n",
       "    }\n",
       "</style>\n",
       "<table border=\"1\" class=\"dataframe\">\n",
       "  <thead>\n",
       "    <tr style=\"text-align: right;\">\n",
       "      <th></th>\n",
       "      <th>Logistic regression</th>\n",
       "    </tr>\n",
       "  </thead>\n",
       "  <tbody>\n",
       "    <tr>\n",
       "      <th>Precision Train</th>\n",
       "      <td>0.970806</td>\n",
       "    </tr>\n",
       "    <tr>\n",
       "      <th>Precision Test</th>\n",
       "      <td>0.955556</td>\n",
       "    </tr>\n",
       "    <tr>\n",
       "      <th>Recall Train</th>\n",
       "      <td>0.970588</td>\n",
       "    </tr>\n",
       "    <tr>\n",
       "      <th>Recall Test</th>\n",
       "      <td>0.955556</td>\n",
       "    </tr>\n",
       "    <tr>\n",
       "      <th>Accuracy Train</th>\n",
       "      <td>0.970588</td>\n",
       "    </tr>\n",
       "    <tr>\n",
       "      <th>Accuracy Test</th>\n",
       "      <td>0.955556</td>\n",
       "    </tr>\n",
       "    <tr>\n",
       "      <th>F1 macro Train</th>\n",
       "      <td>0.970554</td>\n",
       "    </tr>\n",
       "    <tr>\n",
       "      <th>F1 macro Test</th>\n",
       "      <td>0.955556</td>\n",
       "    </tr>\n",
       "  </tbody>\n",
       "</table>\n",
       "</div>"
      ],
      "text/plain": [
       "                 Logistic regression\n",
       "Precision Train             0.970806\n",
       "Precision Test              0.955556\n",
       "Recall Train                0.970588\n",
       "Recall Test                 0.955556\n",
       "Accuracy Train              0.970588\n",
       "Accuracy Test               0.955556\n",
       "F1 macro Train              0.970554\n",
       "F1 macro Test               0.955556"
      ]
     },
     "execution_count": 29,
     "metadata": {},
     "output_type": "execute_result"
    }
   ],
   "source": [
    "# Updated Evaluation metric Score Chart\n",
    "score['Logistic regression'] = lr_score\n",
    "score"
   ]
  },
  {
   "cell_type": "markdown",
   "id": "8374a0e5-b157-4842-b20a-e93c1c94c700",
   "metadata": {},
   "source": [
    "### 2. Cross- Validation & Hyperparameter Tuning"
   ]
  },
  {
   "cell_type": "code",
   "execution_count": 30,
   "id": "7bc6fb27-bb2d-427f-9bbe-7b3e0bfb3952",
   "metadata": {},
   "outputs": [
    {
     "name": "stdout",
     "output_type": "stream",
     "text": [
      "Best hyperparameters:  {'C': 10, 'penalty': 'l2', 'solver': 'newton-cg'}\n"
     ]
    }
   ],
   "source": [
    "# ML Model - 1 Implementation with hyperparameter optimization techniques (i.e., GridSearch CV, RandomSearch CV, Bayesian Optimization etc.)\n",
    "# Define the hyperparameter grid\n",
    "param_grid = {'C': [100,10,1,0.1,0.01,0.001,0.0001],\n",
    "              'penalty': ['l1', 'l2'],\n",
    "              'solver':['newton-cg', 'lbfgs', 'liblinear', 'sag', 'saga']}\n",
    "\n",
    "# Initializing the logistic regression model\n",
    "logreg = LogisticRegression(fit_intercept=True, max_iter=10000, random_state=0)\n",
    "\n",
    "# Repeated stratified kfold\n",
    "rskf = RepeatedStratifiedKFold(n_splits=3, n_repeats=4, random_state=0)\n",
    "\n",
    "# Using GridSearchCV to tune the hyperparameters using cross-validation\n",
    "grid = GridSearchCV(logreg, param_grid, cv=rskf)\n",
    "grid.fit(X_train, y_train)\n",
    "\n",
    "# Select the best hyperparameters found by GridSearchCV\n",
    "best_params = grid.best_params_\n",
    "print(\"Best hyperparameters: \", best_params)"
   ]
  },
  {
   "cell_type": "code",
   "execution_count": 31,
   "id": "de718f1c-c67f-42b4-bc0b-c76662a79ee1",
   "metadata": {},
   "outputs": [],
   "source": [
    "# Initiate model with best parameters\n",
    "lr_model2 = LogisticRegression(C=best_params['C'],\n",
    "                                  penalty=best_params['penalty'],\n",
    "                                  solver=best_params['solver'],\n",
    "                                  max_iter=10000, random_state=0)"
   ]
  },
  {
   "cell_type": "code",
   "execution_count": 32,
   "id": "b14e2d71-9b8a-40b6-8782-b877b8e55cd2",
   "metadata": {},
   "outputs": [
    {
     "name": "stdout",
     "output_type": "stream",
     "text": [
      "\n",
      "Confusion Matrix:\n"
     ]
    },
    {
     "data": {
      "image/png": "[encoded data removed]",
      "text/plain": [
       "<Figure size 1100x400 with 4 Axes>"
      ]
     },
     "metadata": {},
     "output_type": "display_data"
    },
    {
     "name": "stdout",
     "output_type": "stream",
     "text": [
      "\n",
      "Train Classification Report:\n",
      "|              |   precision |   recall |   f1-score |    support |\n",
      "|:-------------|------------:|---------:|-----------:|-----------:|\n",
      "| 0            |    1        | 1        |   1        |  36        |\n",
      "| 1            |    1        | 0.971429 |   0.985507 |  35        |\n",
      "| 2            |    0.96875  | 1        |   0.984127 |  31        |\n",
      "| accuracy     |    0.990196 | 0.990196 |   0.990196 |   0.990196 |\n",
      "| macro avg    |    0.989583 | 0.990476 |   0.989878 | 102        |\n",
      "| weighted avg |    0.990502 | 0.990196 |   0.990203 | 102        |\n",
      "\n",
      "Test Classification Report:\n",
      "|              |   precision |   recall |   f1-score |   support |\n",
      "|:-------------|------------:|---------:|-----------:|----------:|\n",
      "| 0            |    1        | 1        |   1        | 12        |\n",
      "| 1            |    0.933333 | 0.933333 |   0.933333 | 15        |\n",
      "| 2            |    0.944444 | 0.944444 |   0.944444 | 18        |\n",
      "| accuracy     |    0.955556 | 0.955556 |   0.955556 |  0.955556 |\n",
      "| macro avg    |    0.959259 | 0.959259 |   0.959259 | 45        |\n",
      "| weighted avg |    0.955556 | 0.955556 |   0.955556 | 45        |\n"
     ]
    }
   ],
   "source": [
    "\n",
    "# Visualizing evaluation Metric Score chart\n",
    "lr_score2 = evaluate_model(lr_model2, X_train, X_test, y_train, y_test)\n"
   ]
  },
  {
   "cell_type": "code",
   "execution_count": 33,
   "id": "5ee96f45-5c10-4185-9d98-1f9a3fbe1df6",
   "metadata": {},
   "outputs": [
    {
     "data": {
      "text/html": [
       "<div>\n",
       "<style scoped>\n",
       "    .dataframe tbody tr th:only-of-type {\n",
       "        vertical-align: middle;\n",
       "    }\n",
       "\n",
       "    .dataframe tbody tr th {\n",
       "        vertical-align: top;\n",
       "    }\n",
       "\n",
       "    .dataframe thead th {\n",
       "        text-align: right;\n",
       "    }\n",
       "</style>\n",
       "<table border=\"1\" class=\"dataframe\">\n",
       "  <thead>\n",
       "    <tr style=\"text-align: right;\">\n",
       "      <th></th>\n",
       "      <th>Logistic regression</th>\n",
       "    </tr>\n",
       "  </thead>\n",
       "  <tbody>\n",
       "    <tr>\n",
       "      <th>Precision Train</th>\n",
       "      <td>0.970806</td>\n",
       "    </tr>\n",
       "    <tr>\n",
       "      <th>Precision Test</th>\n",
       "      <td>0.955556</td>\n",
       "    </tr>\n",
       "    <tr>\n",
       "      <th>Recall Train</th>\n",
       "      <td>0.970588</td>\n",
       "    </tr>\n",
       "    <tr>\n",
       "      <th>Recall Test</th>\n",
       "      <td>0.955556</td>\n",
       "    </tr>\n",
       "    <tr>\n",
       "      <th>Accuracy Train</th>\n",
       "      <td>0.970588</td>\n",
       "    </tr>\n",
       "    <tr>\n",
       "      <th>Accuracy Test</th>\n",
       "      <td>0.955556</td>\n",
       "    </tr>\n",
       "    <tr>\n",
       "      <th>F1 macro Train</th>\n",
       "      <td>0.970554</td>\n",
       "    </tr>\n",
       "    <tr>\n",
       "      <th>F1 macro Test</th>\n",
       "      <td>0.955556</td>\n",
       "    </tr>\n",
       "  </tbody>\n",
       "</table>\n",
       "</div>"
      ],
      "text/plain": [
       "                 Logistic regression\n",
       "Precision Train             0.970806\n",
       "Precision Test              0.955556\n",
       "Recall Train                0.970588\n",
       "Recall Test                 0.955556\n",
       "Accuracy Train              0.970588\n",
       "Accuracy Test               0.955556\n",
       "F1 macro Train              0.970554\n",
       "F1 macro Test               0.955556"
      ]
     },
     "execution_count": 33,
     "metadata": {},
     "output_type": "execute_result"
    }
   ],
   "source": [
    "# Updated Evaluation metric Score Chart\n",
    "score['Logistic regression'] = lr_score\n",
    "score\n",
    "     "
   ]
  },
  {
   "cell_type": "markdown",
   "id": "4910c8c9-14ab-42f5-a46e-8db88ecf03c7",
   "metadata": {},
   "source": [
    "# ML MODEL -2  Decision Tree\n"
   ]
  },
  {
   "cell_type": "code",
   "execution_count": 34,
   "id": "f1ed2260-e8d2-4b74-8275-a8d0b3e4f350",
   "metadata": {},
   "outputs": [],
   "source": [
    "# ML Model - 2 Implementation\n",
    "dt_model = DecisionTreeClassifier(random_state=20)\n",
    "\n",
    "# Model is trained (fit) and predicted in the evaluate model\n",
    "     "
   ]
  },
  {
   "cell_type": "markdown",
   "id": "3c85d374-2a75-476f-a85f-358642577e15",
   "metadata": {},
   "source": [
    "### 1. Explain the ML Model used and it's performance using Evaluation metric Score Chart."
   ]
  },
  {
   "cell_type": "code",
   "execution_count": 35,
   "id": "6c52a042-5051-4509-9147-b769a5b66580",
   "metadata": {},
   "outputs": [
    {
     "name": "stdout",
     "output_type": "stream",
     "text": [
      "\n",
      "Confusion Matrix:\n"
     ]
    },
    {
     "data": {
      "image/png": "[encoded data removed]",
      "text/plain": [
       "<Figure size 1100x400 with 4 Axes>"
      ]
     },
     "metadata": {},
     "output_type": "display_data"
    },
    {
     "name": "stdout",
     "output_type": "stream",
     "text": [
      "\n",
      "Train Classification Report:\n",
      "|              |   precision |   recall |   f1-score |   support |\n",
      "|:-------------|------------:|---------:|-----------:|----------:|\n",
      "| 0            |           1 |        1 |          1 |        36 |\n",
      "| 1            |           1 |        1 |          1 |        35 |\n",
      "| 2            |           1 |        1 |          1 |        31 |\n",
      "| accuracy     |           1 |        1 |          1 |         1 |\n",
      "| macro avg    |           1 |        1 |          1 |       102 |\n",
      "| weighted avg |           1 |        1 |          1 |       102 |\n",
      "\n",
      "Test Classification Report:\n",
      "|              |   precision |   recall |   f1-score |   support |\n",
      "|:-------------|------------:|---------:|-----------:|----------:|\n",
      "| 0            |    1        | 1        |   1        | 12        |\n",
      "| 1            |    0.928571 | 0.866667 |   0.896552 | 15        |\n",
      "| 2            |    0.894737 | 0.944444 |   0.918919 | 18        |\n",
      "| accuracy     |    0.933333 | 0.933333 |   0.933333 |  0.933333 |\n",
      "| macro avg    |    0.941103 | 0.937037 |   0.93849  | 45        |\n",
      "| weighted avg |    0.934085 | 0.933333 |   0.933085 | 45        |\n"
     ]
    }
   ],
   "source": [
    "# Visualizing evaluation Metric Score chart\n",
    "dt_score = evaluate_model(dt_model, X_train, X_test, y_train, y_test)"
   ]
  },
  {
   "cell_type": "code",
   "execution_count": 36,
   "id": "0e7ac8a4-b751-4826-aa13-4cac882f2a09",
   "metadata": {},
   "outputs": [
    {
     "data": {
      "text/html": [
       "<div>\n",
       "<style scoped>\n",
       "    .dataframe tbody tr th:only-of-type {\n",
       "        vertical-align: middle;\n",
       "    }\n",
       "\n",
       "    .dataframe tbody tr th {\n",
       "        vertical-align: top;\n",
       "    }\n",
       "\n",
       "    .dataframe thead th {\n",
       "        text-align: right;\n",
       "    }\n",
       "</style>\n",
       "<table border=\"1\" class=\"dataframe\">\n",
       "  <thead>\n",
       "    <tr style=\"text-align: right;\">\n",
       "      <th></th>\n",
       "      <th>Logistic regression</th>\n",
       "      <th>Decision Tree</th>\n",
       "    </tr>\n",
       "  </thead>\n",
       "  <tbody>\n",
       "    <tr>\n",
       "      <th>Precision Train</th>\n",
       "      <td>0.970806</td>\n",
       "      <td>1.000000</td>\n",
       "    </tr>\n",
       "    <tr>\n",
       "      <th>Precision Test</th>\n",
       "      <td>0.955556</td>\n",
       "      <td>0.934085</td>\n",
       "    </tr>\n",
       "    <tr>\n",
       "      <th>Recall Train</th>\n",
       "      <td>0.970588</td>\n",
       "      <td>1.000000</td>\n",
       "    </tr>\n",
       "    <tr>\n",
       "      <th>Recall Test</th>\n",
       "      <td>0.955556</td>\n",
       "      <td>0.933333</td>\n",
       "    </tr>\n",
       "    <tr>\n",
       "      <th>Accuracy Train</th>\n",
       "      <td>0.970588</td>\n",
       "      <td>1.000000</td>\n",
       "    </tr>\n",
       "    <tr>\n",
       "      <th>Accuracy Test</th>\n",
       "      <td>0.955556</td>\n",
       "      <td>0.933333</td>\n",
       "    </tr>\n",
       "    <tr>\n",
       "      <th>F1 macro Train</th>\n",
       "      <td>0.970554</td>\n",
       "      <td>1.000000</td>\n",
       "    </tr>\n",
       "    <tr>\n",
       "      <th>F1 macro Test</th>\n",
       "      <td>0.955556</td>\n",
       "      <td>0.933085</td>\n",
       "    </tr>\n",
       "  </tbody>\n",
       "</table>\n",
       "</div>"
      ],
      "text/plain": [
       "                 Logistic regression  Decision Tree\n",
       "Precision Train             0.970806       1.000000\n",
       "Precision Test              0.955556       0.934085\n",
       "Recall Train                0.970588       1.000000\n",
       "Recall Test                 0.955556       0.933333\n",
       "Accuracy Train              0.970588       1.000000\n",
       "Accuracy Test               0.955556       0.933333\n",
       "F1 macro Train              0.970554       1.000000\n",
       "F1 macro Test               0.955556       0.933085"
      ]
     },
     "execution_count": 36,
     "metadata": {},
     "output_type": "execute_result"
    }
   ],
   "source": [
    "\n",
    "# Updated Evaluation metric Score Chart\n",
    "score['Decision Tree'] = dt_score\n",
    "score"
   ]
  },
  {
   "cell_type": "markdown",
   "id": "7f875747-4205-4f27-9f08-3b4053bf0d53",
   "metadata": {},
   "source": [
    "### 2.cross-validation & Hyperparaeter Tuning"
   ]
  },
  {
   "cell_type": "code",
   "execution_count": 37,
   "id": "efb024a6-86f6-4d06-851f-85fce6d4ea02",
   "metadata": {},
   "outputs": [
    {
     "name": "stdout",
     "output_type": "stream",
     "text": [
      "Best hyperparameters:  {'max_depth': 3, 'min_samples_leaf': np.int64(10), 'min_samples_split': np.int64(2)}\n"
     ]
    }
   ],
   "source": [
    "# ML Model - 2 Implementation with hyperparameter optimization techniques (i.e., GridSearch CV, RandomSearch CV, Bayesian Optimization etc.)\n",
    "# Define the hyperparameter grid\n",
    "grid = {'max_depth' : [3,4,5,6,7,8],\n",
    "        'min_samples_split' : np.arange(2,8),\n",
    "        'min_samples_leaf' : np.arange(10,20)}\n",
    "\n",
    "# Initialize the model\n",
    "model = DecisionTreeClassifier()\n",
    "\n",
    "# repeated stratified kfold\n",
    "rskf = RepeatedStratifiedKFold(n_splits=3, n_repeats=3, random_state=0)\n",
    "\n",
    "# Initialize GridSearchCV\n",
    "grid_search = GridSearchCV(model, grid, cv=rskf)\n",
    "\n",
    "# Fit the GridSearchCV to the training data\n",
    "grid_search.fit(X_train, y_train)\n",
    "\n",
    "# Select the best hyperparameters\n",
    "best_params = grid_search.best_params_\n",
    "print(\"Best hyperparameters: \", best_params)"
   ]
  },
  {
   "cell_type": "code",
   "execution_count": 38,
   "id": "14833c8e-12e3-407b-9d20-9086341b71c9",
   "metadata": {},
   "outputs": [],
   "source": [
    "\n",
    "# Train a new model with the best hyperparameters\n",
    "dt_model2 = DecisionTreeClassifier(max_depth=best_params['max_depth'],\n",
    "                                 min_samples_leaf=best_params['min_samples_leaf'],\n",
    "                                 min_samples_split=best_params['min_samples_split'],\n",
    "                                 random_state=20)\n",
    "     "
   ]
  },
  {
   "cell_type": "code",
   "execution_count": 39,
   "id": "f57afe7f-5018-490e-a24e-a033e642aead",
   "metadata": {},
   "outputs": [
    {
     "name": "stdout",
     "output_type": "stream",
     "text": [
      "\n",
      "Confusion Matrix:\n"
     ]
    },
    {
     "data": {
      "image/png": "[encoded data removed]",
      "text/plain": [
       "<Figure size 1100x400 with 4 Axes>"
      ]
     },
     "metadata": {},
     "output_type": "display_data"
    },
    {
     "name": "stdout",
     "output_type": "stream",
     "text": [
      "\n",
      "Train Classification Report:\n",
      "|              |   precision |   recall |   f1-score |    support |\n",
      "|:-------------|------------:|---------:|-----------:|-----------:|\n",
      "| 0            |    1        | 1        |   1        |  36        |\n",
      "| 1            |    0.897436 | 1        |   0.945946 |  35        |\n",
      "| 2            |    1        | 0.870968 |   0.931034 |  31        |\n",
      "| accuracy     |    0.960784 | 0.960784 |   0.960784 |   0.960784 |\n",
      "| macro avg    |    0.965812 | 0.956989 |   0.958993 | 102        |\n",
      "| weighted avg |    0.964806 | 0.960784 |   0.960492 | 102        |\n",
      "\n",
      "Test Classification Report:\n",
      "|              |   precision |   recall |   f1-score |   support |\n",
      "|:-------------|------------:|---------:|-----------:|----------:|\n",
      "| 0            |    1        | 1        |   1        | 12        |\n",
      "| 1            |    0.933333 | 0.933333 |   0.933333 | 15        |\n",
      "| 2            |    0.944444 | 0.944444 |   0.944444 | 18        |\n",
      "| accuracy     |    0.955556 | 0.955556 |   0.955556 |  0.955556 |\n",
      "| macro avg    |    0.959259 | 0.959259 |   0.959259 | 45        |\n",
      "| weighted avg |    0.955556 | 0.955556 |   0.955556 | 45        |\n"
     ]
    }
   ],
   "source": [
    "\n",
    "# Visualizing evaluation Metric Score chart\n",
    "dt2_score = evaluate_model(dt_model2, X_train, X_test, y_train, y_test)"
   ]
  },
  {
   "cell_type": "code",
   "execution_count": 40,
   "id": "c81066d1-d40a-488b-ae93-68212db7afc6",
   "metadata": {},
   "outputs": [],
   "source": [
    "\n",
    "\n",
    "score['Decision Tree tuned'] = dt2_score"
   ]
  },
  {
   "cell_type": "code",
   "execution_count": 41,
   "id": "4958fe79-4b95-4631-a8f7-462b1d7ed61d",
   "metadata": {},
   "outputs": [
    {
     "data": {
      "text/html": [
       "<div>\n",
       "<style scoped>\n",
       "    .dataframe tbody tr th:only-of-type {\n",
       "        vertical-align: middle;\n",
       "    }\n",
       "\n",
       "    .dataframe tbody tr th {\n",
       "        vertical-align: top;\n",
       "    }\n",
       "\n",
       "    .dataframe thead th {\n",
       "        text-align: right;\n",
       "    }\n",
       "</style>\n",
       "<table border=\"1\" class=\"dataframe\">\n",
       "  <thead>\n",
       "    <tr style=\"text-align: right;\">\n",
       "      <th></th>\n",
       "      <th>Logistic regression</th>\n",
       "      <th>Decision Tree</th>\n",
       "      <th>Decision Tree tuned</th>\n",
       "    </tr>\n",
       "  </thead>\n",
       "  <tbody>\n",
       "    <tr>\n",
       "      <th>Precision Train</th>\n",
       "      <td>0.970806</td>\n",
       "      <td>1.000000</td>\n",
       "      <td>0.964806</td>\n",
       "    </tr>\n",
       "    <tr>\n",
       "      <th>Precision Test</th>\n",
       "      <td>0.955556</td>\n",
       "      <td>0.934085</td>\n",
       "      <td>0.955556</td>\n",
       "    </tr>\n",
       "    <tr>\n",
       "      <th>Recall Train</th>\n",
       "      <td>0.970588</td>\n",
       "      <td>1.000000</td>\n",
       "      <td>0.960784</td>\n",
       "    </tr>\n",
       "    <tr>\n",
       "      <th>Recall Test</th>\n",
       "      <td>0.955556</td>\n",
       "      <td>0.933333</td>\n",
       "      <td>0.955556</td>\n",
       "    </tr>\n",
       "    <tr>\n",
       "      <th>Accuracy Train</th>\n",
       "      <td>0.970588</td>\n",
       "      <td>1.000000</td>\n",
       "      <td>0.960784</td>\n",
       "    </tr>\n",
       "    <tr>\n",
       "      <th>Accuracy Test</th>\n",
       "      <td>0.955556</td>\n",
       "      <td>0.933333</td>\n",
       "      <td>0.955556</td>\n",
       "    </tr>\n",
       "    <tr>\n",
       "      <th>F1 macro Train</th>\n",
       "      <td>0.970554</td>\n",
       "      <td>1.000000</td>\n",
       "      <td>0.960492</td>\n",
       "    </tr>\n",
       "    <tr>\n",
       "      <th>F1 macro Test</th>\n",
       "      <td>0.955556</td>\n",
       "      <td>0.933085</td>\n",
       "      <td>0.955556</td>\n",
       "    </tr>\n",
       "  </tbody>\n",
       "</table>\n",
       "</div>"
      ],
      "text/plain": [
       "                 Logistic regression  Decision Tree  Decision Tree tuned\n",
       "Precision Train             0.970806       1.000000             0.964806\n",
       "Precision Test              0.955556       0.934085             0.955556\n",
       "Recall Train                0.970588       1.000000             0.960784\n",
       "Recall Test                 0.955556       0.933333             0.955556\n",
       "Accuracy Train              0.970588       1.000000             0.960784\n",
       "Accuracy Test               0.955556       0.933333             0.955556\n",
       "F1 macro Train              0.970554       1.000000             0.960492\n",
       "F1 macro Test               0.955556       0.933085             0.955556"
      ]
     },
     "execution_count": 41,
     "metadata": {},
     "output_type": "execute_result"
    }
   ],
   "source": [
    "# Updated Evaluation metric Score Chart\n",
    "score\n",
    "     "
   ]
  },
  {
   "cell_type": "markdown",
   "id": "9f4a6d7d-4fe0-47e8-9f65-05f5320036a2",
   "metadata": {},
   "source": [
    "# ML Model-3 Random Forest"
   ]
  },
  {
   "cell_type": "code",
   "execution_count": 42,
   "id": "47604f1c-4bbc-41a3-bbcb-1a82129c1b4c",
   "metadata": {},
   "outputs": [],
   "source": [
    "# ML Model - 3 Implementation\n",
    "rf_model = RandomForestClassifier(random_state=0)\n",
    "\n",
    "# Model is trained (fit) and predicted in the evaluate model\n",
    "     "
   ]
  },
  {
   "cell_type": "markdown",
   "id": "cb995d28-eebd-4015-aa8a-5f77ed0a02fb",
   "metadata": {},
   "source": [
    "### 1 Explain the ML Model used and it's performance using Evaluation metric Score Chart."
   ]
  },
  {
   "cell_type": "code",
   "execution_count": 43,
   "id": "3e8c7093-8ef6-4f23-87f7-a4c4301277dc",
   "metadata": {},
   "outputs": [
    {
     "name": "stdout",
     "output_type": "stream",
     "text": [
      "\n",
      "Confusion Matrix:\n"
     ]
    },
    {
     "data": {
      "image/png": "[encoded data removed]",
      "text/plain": [
       "<Figure size 1100x400 with 4 Axes>"
      ]
     },
     "metadata": {},
     "output_type": "display_data"
    },
    {
     "name": "stdout",
     "output_type": "stream",
     "text": [
      "\n",
      "Train Classification Report:\n",
      "|              |   precision |   recall |   f1-score |   support |\n",
      "|:-------------|------------:|---------:|-----------:|----------:|\n",
      "| 0            |           1 |        1 |          1 |        36 |\n",
      "| 1            |           1 |        1 |          1 |        35 |\n",
      "| 2            |           1 |        1 |          1 |        31 |\n",
      "| accuracy     |           1 |        1 |          1 |         1 |\n",
      "| macro avg    |           1 |        1 |          1 |       102 |\n",
      "| weighted avg |           1 |        1 |          1 |       102 |\n",
      "\n",
      "Test Classification Report:\n",
      "|              |   precision |   recall |   f1-score |   support |\n",
      "|:-------------|------------:|---------:|-----------:|----------:|\n",
      "| 0            |    1        | 1        |   1        | 12        |\n",
      "| 1            |    0.933333 | 0.933333 |   0.933333 | 15        |\n",
      "| 2            |    0.944444 | 0.944444 |   0.944444 | 18        |\n",
      "| accuracy     |    0.955556 | 0.955556 |   0.955556 |  0.955556 |\n",
      "| macro avg    |    0.959259 | 0.959259 |   0.959259 | 45        |\n",
      "| weighted avg |    0.955556 | 0.955556 |   0.955556 | 45        |\n"
     ]
    }
   ],
   "source": [
    "\n",
    "# Visualizing evaluation Metric Score chart\n",
    "rf_score = evaluate_model(rf_model, X_train, X_test, y_train, y_test)\n",
    "     "
   ]
  },
  {
   "cell_type": "code",
   "execution_count": 44,
   "id": "3da6adfe-7fce-4e05-9bd8-fd9ff26a5827",
   "metadata": {},
   "outputs": [
    {
     "data": {
      "text/html": [
       "<div>\n",
       "<style scoped>\n",
       "    .dataframe tbody tr th:only-of-type {\n",
       "        vertical-align: middle;\n",
       "    }\n",
       "\n",
       "    .dataframe tbody tr th {\n",
       "        vertical-align: top;\n",
       "    }\n",
       "\n",
       "    .dataframe thead th {\n",
       "        text-align: right;\n",
       "    }\n",
       "</style>\n",
       "<table border=\"1\" class=\"dataframe\">\n",
       "  <thead>\n",
       "    <tr style=\"text-align: right;\">\n",
       "      <th></th>\n",
       "      <th>Logistic regression</th>\n",
       "      <th>Decision Tree</th>\n",
       "      <th>Decision Tree tuned</th>\n",
       "      <th>Random Forest</th>\n",
       "    </tr>\n",
       "  </thead>\n",
       "  <tbody>\n",
       "    <tr>\n",
       "      <th>Precision Train</th>\n",
       "      <td>0.970806</td>\n",
       "      <td>1.000000</td>\n",
       "      <td>0.964806</td>\n",
       "      <td>1.000000</td>\n",
       "    </tr>\n",
       "    <tr>\n",
       "      <th>Precision Test</th>\n",
       "      <td>0.955556</td>\n",
       "      <td>0.934085</td>\n",
       "      <td>0.955556</td>\n",
       "      <td>0.955556</td>\n",
       "    </tr>\n",
       "    <tr>\n",
       "      <th>Recall Train</th>\n",
       "      <td>0.970588</td>\n",
       "      <td>1.000000</td>\n",
       "      <td>0.960784</td>\n",
       "      <td>1.000000</td>\n",
       "    </tr>\n",
       "    <tr>\n",
       "      <th>Recall Test</th>\n",
       "      <td>0.955556</td>\n",
       "      <td>0.933333</td>\n",
       "      <td>0.955556</td>\n",
       "      <td>0.955556</td>\n",
       "    </tr>\n",
       "    <tr>\n",
       "      <th>Accuracy Train</th>\n",
       "      <td>0.970588</td>\n",
       "      <td>1.000000</td>\n",
       "      <td>0.960784</td>\n",
       "      <td>1.000000</td>\n",
       "    </tr>\n",
       "    <tr>\n",
       "      <th>Accuracy Test</th>\n",
       "      <td>0.955556</td>\n",
       "      <td>0.933333</td>\n",
       "      <td>0.955556</td>\n",
       "      <td>0.955556</td>\n",
       "    </tr>\n",
       "    <tr>\n",
       "      <th>F1 macro Train</th>\n",
       "      <td>0.970554</td>\n",
       "      <td>1.000000</td>\n",
       "      <td>0.960492</td>\n",
       "      <td>1.000000</td>\n",
       "    </tr>\n",
       "    <tr>\n",
       "      <th>F1 macro Test</th>\n",
       "      <td>0.955556</td>\n",
       "      <td>0.933085</td>\n",
       "      <td>0.955556</td>\n",
       "      <td>0.955556</td>\n",
       "    </tr>\n",
       "  </tbody>\n",
       "</table>\n",
       "</div>"
      ],
      "text/plain": [
       "                 Logistic regression  Decision Tree  Decision Tree tuned  \\\n",
       "Precision Train             0.970806       1.000000             0.964806   \n",
       "Precision Test              0.955556       0.934085             0.955556   \n",
       "Recall Train                0.970588       1.000000             0.960784   \n",
       "Recall Test                 0.955556       0.933333             0.955556   \n",
       "Accuracy Train              0.970588       1.000000             0.960784   \n",
       "Accuracy Test               0.955556       0.933333             0.955556   \n",
       "F1 macro Train              0.970554       1.000000             0.960492   \n",
       "F1 macro Test               0.955556       0.933085             0.955556   \n",
       "\n",
       "                 Random Forest  \n",
       "Precision Train       1.000000  \n",
       "Precision Test        0.955556  \n",
       "Recall Train          1.000000  \n",
       "Recall Test           0.955556  \n",
       "Accuracy Train        1.000000  \n",
       "Accuracy Test         0.955556  \n",
       "F1 macro Train        1.000000  \n",
       "F1 macro Test         0.955556  "
      ]
     },
     "execution_count": 44,
     "metadata": {},
     "output_type": "execute_result"
    }
   ],
   "source": [
    "\n",
    "# Updated Evaluation metric Score Chart\n",
    "score['Random Forest'] = rf_score\n",
    "score"
   ]
  },
  {
   "cell_type": "markdown",
   "id": "0f5ea52b-0881-470e-a969-219fe31bdc40",
   "metadata": {},
   "source": [
    "### 3.Cross- Validation & Hyperparameter Tuning"
   ]
  },
  {
   "cell_type": "code",
   "execution_count": 45,
   "id": "c8e266a6-1aab-4185-9dd0-4c24a73277c9",
   "metadata": {},
   "outputs": [
    {
     "name": "stdout",
     "output_type": "stream",
     "text": [
      "Best hyperparameters:  {'n_estimators': 100, 'min_samples_split': 4, 'max_depth': 15}\n"
     ]
    }
   ],
   "source": [
    "# ML Model - 3 Implementation with hyperparameter optimization techniques (i.e., GridSearch CV, RandomSearch CV, Bayesian Optimization etc.)\n",
    "# Define the hyperparameter grid\n",
    "grid = {'n_estimators': [10, 50, 100, 200],\n",
    "              'max_depth': [8, 9, 10, 11, 12,13, 14, 15],\n",
    "              'min_samples_split': [2, 3, 4, 5]}\n",
    "\n",
    "# Initialize the model\n",
    "rf = RandomForestClassifier(random_state=0)\n",
    "\n",
    "# Repeated stratified kfold\n",
    "rskf = RepeatedStratifiedKFold(n_splits=3, n_repeats=3, random_state=0)\n",
    "\n",
    "# Initialize RandomSearchCV\n",
    "random_search = RandomizedSearchCV(rf, grid,cv=rskf, n_iter=10, n_jobs=-1)\n",
    "\n",
    "# Fit the RandomSearchCV to the training data\n",
    "random_search.fit(X_train, y_train)\n",
    "\n",
    "# Select the best hyperparameters\n",
    "best_params = random_search.best_params_\n",
    "print(\"Best hyperparameters: \", best_params)\n",
    "    \n"
   ]
  },
  {
   "cell_type": "code",
   "execution_count": 46,
   "id": "94d5664c-a723-46a0-9278-c7b64fcd7128",
   "metadata": {},
   "outputs": [],
   "source": [
    "\n",
    "# Initialize model with best parameters\n",
    "rf_model2 = RandomForestClassifier(n_estimators = best_params['n_estimators'],\n",
    "                                 min_samples_leaf= best_params['min_samples_split'],\n",
    "                                 max_depth = best_params['max_depth'],\n",
    "                                 random_state=0)\n",
    "     "
   ]
  },
  {
   "cell_type": "code",
   "execution_count": 47,
   "id": "0ed42fe5-04be-4544-b08c-b4cc21daa4e1",
   "metadata": {},
   "outputs": [
    {
     "name": "stdout",
     "output_type": "stream",
     "text": [
      "\n",
      "Confusion Matrix:\n"
     ]
    },
    {
     "data": {
      "image/png": "[encoded data removed]",
      "text/plain": [
       "<Figure size 1100x400 with 4 Axes>"
      ]
     },
     "metadata": {},
     "output_type": "display_data"
    },
    {
     "name": "stdout",
     "output_type": "stream",
     "text": [
      "\n",
      "Train Classification Report:\n",
      "|              |   precision |   recall |   f1-score |    support |\n",
      "|:-------------|------------:|---------:|-----------:|-----------:|\n",
      "| 0            |    1        | 1        |   1        |  36        |\n",
      "| 1            |    0.942857 | 0.942857 |   0.942857 |  35        |\n",
      "| 2            |    0.935484 | 0.935484 |   0.935484 |  31        |\n",
      "| accuracy     |    0.960784 | 0.960784 |   0.960784 |   0.960784 |\n",
      "| macro avg    |    0.959447 | 0.959447 |   0.959447 | 102        |\n",
      "| weighted avg |    0.960784 | 0.960784 |   0.960784 | 102        |\n",
      "\n",
      "Test Classification Report:\n",
      "|              |   precision |   recall |   f1-score |   support |\n",
      "|:-------------|------------:|---------:|-----------:|----------:|\n",
      "| 0            |    1        | 1        |   1        | 12        |\n",
      "| 1            |    1        | 0.933333 |   0.965517 | 15        |\n",
      "| 2            |    0.947368 | 1        |   0.972973 | 18        |\n",
      "| accuracy     |    0.977778 | 0.977778 |   0.977778 |  0.977778 |\n",
      "| macro avg    |    0.982456 | 0.977778 |   0.979497 | 45        |\n",
      "| weighted avg |    0.978947 | 0.977778 |   0.977695 | 45        |\n"
     ]
    }
   ],
   "source": [
    "\n",
    "# Visualizing evaluation Metric Score chart\n",
    "rf2_score = evaluate_model(rf_model2, X_train, X_test, y_train, y_test)\n",
    "     "
   ]
  },
  {
   "cell_type": "code",
   "execution_count": 48,
   "id": "c4a3b416-fc0e-4c51-bb70-d990d72116e9",
   "metadata": {},
   "outputs": [],
   "source": [
    "\n",
    "score['Random Forest tuned'] = rf2_score"
   ]
  },
  {
   "cell_type": "code",
   "execution_count": 49,
   "id": "8670d772-d543-445d-97f2-524f7dd0c8bc",
   "metadata": {},
   "outputs": [],
   "source": [
    "\n",
    "score['Random Forest tuned'] = rf2_score"
   ]
  },
  {
   "cell_type": "code",
   "execution_count": 50,
   "id": "77a07454-518c-458a-92b6-1025a0b1ffa8",
   "metadata": {},
   "outputs": [
    {
     "data": {
      "text/html": [
       "<div>\n",
       "<style scoped>\n",
       "    .dataframe tbody tr th:only-of-type {\n",
       "        vertical-align: middle;\n",
       "    }\n",
       "\n",
       "    .dataframe tbody tr th {\n",
       "        vertical-align: top;\n",
       "    }\n",
       "\n",
       "    .dataframe thead th {\n",
       "        text-align: right;\n",
       "    }\n",
       "</style>\n",
       "<table border=\"1\" class=\"dataframe\">\n",
       "  <thead>\n",
       "    <tr style=\"text-align: right;\">\n",
       "      <th></th>\n",
       "      <th>Logistic regression</th>\n",
       "      <th>Decision Tree</th>\n",
       "      <th>Decision Tree tuned</th>\n",
       "      <th>Random Forest</th>\n",
       "      <th>Random Forest tuned</th>\n",
       "    </tr>\n",
       "  </thead>\n",
       "  <tbody>\n",
       "    <tr>\n",
       "      <th>Precision Train</th>\n",
       "      <td>0.970806</td>\n",
       "      <td>1.000000</td>\n",
       "      <td>0.964806</td>\n",
       "      <td>1.000000</td>\n",
       "      <td>0.960784</td>\n",
       "    </tr>\n",
       "    <tr>\n",
       "      <th>Precision Test</th>\n",
       "      <td>0.955556</td>\n",
       "      <td>0.934085</td>\n",
       "      <td>0.955556</td>\n",
       "      <td>0.955556</td>\n",
       "      <td>0.978947</td>\n",
       "    </tr>\n",
       "    <tr>\n",
       "      <th>Recall Train</th>\n",
       "      <td>0.970588</td>\n",
       "      <td>1.000000</td>\n",
       "      <td>0.960784</td>\n",
       "      <td>1.000000</td>\n",
       "      <td>0.960784</td>\n",
       "    </tr>\n",
       "    <tr>\n",
       "      <th>Recall Test</th>\n",
       "      <td>0.955556</td>\n",
       "      <td>0.933333</td>\n",
       "      <td>0.955556</td>\n",
       "      <td>0.955556</td>\n",
       "      <td>0.977778</td>\n",
       "    </tr>\n",
       "    <tr>\n",
       "      <th>Accuracy Train</th>\n",
       "      <td>0.970588</td>\n",
       "      <td>1.000000</td>\n",
       "      <td>0.960784</td>\n",
       "      <td>1.000000</td>\n",
       "      <td>0.960784</td>\n",
       "    </tr>\n",
       "    <tr>\n",
       "      <th>Accuracy Test</th>\n",
       "      <td>0.955556</td>\n",
       "      <td>0.933333</td>\n",
       "      <td>0.955556</td>\n",
       "      <td>0.955556</td>\n",
       "      <td>0.977778</td>\n",
       "    </tr>\n",
       "    <tr>\n",
       "      <th>F1 macro Train</th>\n",
       "      <td>0.970554</td>\n",
       "      <td>1.000000</td>\n",
       "      <td>0.960492</td>\n",
       "      <td>1.000000</td>\n",
       "      <td>0.960784</td>\n",
       "    </tr>\n",
       "    <tr>\n",
       "      <th>F1 macro Test</th>\n",
       "      <td>0.955556</td>\n",
       "      <td>0.933085</td>\n",
       "      <td>0.955556</td>\n",
       "      <td>0.955556</td>\n",
       "      <td>0.977695</td>\n",
       "    </tr>\n",
       "  </tbody>\n",
       "</table>\n",
       "</div>"
      ],
      "text/plain": [
       "                 Logistic regression  Decision Tree  Decision Tree tuned  \\\n",
       "Precision Train             0.970806       1.000000             0.964806   \n",
       "Precision Test              0.955556       0.934085             0.955556   \n",
       "Recall Train                0.970588       1.000000             0.960784   \n",
       "Recall Test                 0.955556       0.933333             0.955556   \n",
       "Accuracy Train              0.970588       1.000000             0.960784   \n",
       "Accuracy Test               0.955556       0.933333             0.955556   \n",
       "F1 macro Train              0.970554       1.000000             0.960492   \n",
       "F1 macro Test               0.955556       0.933085             0.955556   \n",
       "\n",
       "                 Random Forest  Random Forest tuned  \n",
       "Precision Train       1.000000             0.960784  \n",
       "Precision Test        0.955556             0.978947  \n",
       "Recall Train          1.000000             0.960784  \n",
       "Recall Test           0.955556             0.977778  \n",
       "Accuracy Train        1.000000             0.960784  \n",
       "Accuracy Test         0.955556             0.977778  \n",
       "F1 macro Train        1.000000             0.960784  \n",
       "F1 macro Test         0.955556             0.977695  "
      ]
     },
     "execution_count": 50,
     "metadata": {},
     "output_type": "execute_result"
    }
   ],
   "source": [
    "score"
   ]
  },
  {
   "cell_type": "markdown",
   "id": "8a2d19bc-f1c1-4661-8ebb-0e434286614b",
   "metadata": {},
   "source": [
    "# ML model-4 : SVM(Support Vector Machine)"
   ]
  },
  {
   "cell_type": "code",
   "execution_count": 51,
   "id": "9ed14a9e-783b-4bb4-bd2d-46ff8252bcba",
   "metadata": {},
   "outputs": [],
   "source": [
    "# ML Model - 4 Implementation\n",
    "svm_model = SVC(kernel='linear', random_state=0, probability=True)\n",
    "\n",
    "# Model is trained (fit) and predicted in the evaluate model"
   ]
  },
  {
   "cell_type": "code",
   "execution_count": 52,
   "id": "04e6a1c5-e842-411a-9b71-41705704112c",
   "metadata": {},
   "outputs": [],
   "source": [
    "### 1. Explain the ML Model used and it's performance using Evaluation metric Score Chart."
   ]
  },
  {
   "cell_type": "code",
   "execution_count": 53,
   "id": "6676d4ed-c4fc-4fc9-a1a7-1d483c7998a8",
   "metadata": {},
   "outputs": [
    {
     "name": "stdout",
     "output_type": "stream",
     "text": [
      "\n",
      "Confusion Matrix:\n"
     ]
    },
    {
     "data": {
      "image/png": "[encoded data removed]",
      "text/plain": [
       "<Figure size 1100x400 with 4 Axes>"
      ]
     },
     "metadata": {},
     "output_type": "display_data"
    },
    {
     "name": "stdout",
     "output_type": "stream",
     "text": [
      "\n",
      "Train Classification Report:\n",
      "|              |   precision |   recall |   f1-score |    support |\n",
      "|:-------------|------------:|---------:|-----------:|-----------:|\n",
      "| 0            |    1        | 1        |   1        |  36        |\n",
      "| 1            |    1        | 0.971429 |   0.985507 |  35        |\n",
      "| 2            |    0.96875  | 1        |   0.984127 |  31        |\n",
      "| accuracy     |    0.990196 | 0.990196 |   0.990196 |   0.990196 |\n",
      "| macro avg    |    0.989583 | 0.990476 |   0.989878 | 102        |\n",
      "| weighted avg |    0.990502 | 0.990196 |   0.990203 | 102        |\n",
      "\n",
      "Test Classification Report:\n",
      "|              |   precision |   recall |   f1-score |   support |\n",
      "|:-------------|------------:|---------:|-----------:|----------:|\n",
      "| 0            |    1        | 1        |   1        | 12        |\n",
      "| 1            |    1        | 0.933333 |   0.965517 | 15        |\n",
      "| 2            |    0.947368 | 1        |   0.972973 | 18        |\n",
      "| accuracy     |    0.977778 | 0.977778 |   0.977778 |  0.977778 |\n",
      "| macro avg    |    0.982456 | 0.977778 |   0.979497 | 45        |\n",
      "| weighted avg |    0.978947 | 0.977778 |   0.977695 | 45        |\n"
     ]
    }
   ],
   "source": [
    "# Visualizing evaluation Metric Score chart\n",
    "svm_score = evaluate_model(svm_model, X_train, X_test, y_train, y_test)"
   ]
  },
  {
   "cell_type": "code",
   "execution_count": 54,
   "id": "28eb178c-fd42-4170-a4e5-e8fdc28dc801",
   "metadata": {},
   "outputs": [
    {
     "data": {
      "text/html": [
       "<div>\n",
       "<style scoped>\n",
       "    .dataframe tbody tr th:only-of-type {\n",
       "        vertical-align: middle;\n",
       "    }\n",
       "\n",
       "    .dataframe tbody tr th {\n",
       "        vertical-align: top;\n",
       "    }\n",
       "\n",
       "    .dataframe thead th {\n",
       "        text-align: right;\n",
       "    }\n",
       "</style>\n",
       "<table border=\"1\" class=\"dataframe\">\n",
       "  <thead>\n",
       "    <tr style=\"text-align: right;\">\n",
       "      <th></th>\n",
       "      <th>Logistic regression</th>\n",
       "      <th>Decision Tree</th>\n",
       "      <th>Decision Tree tuned</th>\n",
       "      <th>Random Forest</th>\n",
       "      <th>Random Forest tuned</th>\n",
       "      <th>SVM</th>\n",
       "    </tr>\n",
       "  </thead>\n",
       "  <tbody>\n",
       "    <tr>\n",
       "      <th>Precision Train</th>\n",
       "      <td>0.970806</td>\n",
       "      <td>1.000000</td>\n",
       "      <td>0.964806</td>\n",
       "      <td>1.000000</td>\n",
       "      <td>0.960784</td>\n",
       "      <td>0.990502</td>\n",
       "    </tr>\n",
       "    <tr>\n",
       "      <th>Precision Test</th>\n",
       "      <td>0.955556</td>\n",
       "      <td>0.934085</td>\n",
       "      <td>0.955556</td>\n",
       "      <td>0.955556</td>\n",
       "      <td>0.978947</td>\n",
       "      <td>0.978947</td>\n",
       "    </tr>\n",
       "    <tr>\n",
       "      <th>Recall Train</th>\n",
       "      <td>0.970588</td>\n",
       "      <td>1.000000</td>\n",
       "      <td>0.960784</td>\n",
       "      <td>1.000000</td>\n",
       "      <td>0.960784</td>\n",
       "      <td>0.990196</td>\n",
       "    </tr>\n",
       "    <tr>\n",
       "      <th>Recall Test</th>\n",
       "      <td>0.955556</td>\n",
       "      <td>0.933333</td>\n",
       "      <td>0.955556</td>\n",
       "      <td>0.955556</td>\n",
       "      <td>0.977778</td>\n",
       "      <td>0.977778</td>\n",
       "    </tr>\n",
       "    <tr>\n",
       "      <th>Accuracy Train</th>\n",
       "      <td>0.970588</td>\n",
       "      <td>1.000000</td>\n",
       "      <td>0.960784</td>\n",
       "      <td>1.000000</td>\n",
       "      <td>0.960784</td>\n",
       "      <td>0.990196</td>\n",
       "    </tr>\n",
       "    <tr>\n",
       "      <th>Accuracy Test</th>\n",
       "      <td>0.955556</td>\n",
       "      <td>0.933333</td>\n",
       "      <td>0.955556</td>\n",
       "      <td>0.955556</td>\n",
       "      <td>0.977778</td>\n",
       "      <td>0.977778</td>\n",
       "    </tr>\n",
       "    <tr>\n",
       "      <th>F1 macro Train</th>\n",
       "      <td>0.970554</td>\n",
       "      <td>1.000000</td>\n",
       "      <td>0.960492</td>\n",
       "      <td>1.000000</td>\n",
       "      <td>0.960784</td>\n",
       "      <td>0.990203</td>\n",
       "    </tr>\n",
       "    <tr>\n",
       "      <th>F1 macro Test</th>\n",
       "      <td>0.955556</td>\n",
       "      <td>0.933085</td>\n",
       "      <td>0.955556</td>\n",
       "      <td>0.955556</td>\n",
       "      <td>0.977695</td>\n",
       "      <td>0.977695</td>\n",
       "    </tr>\n",
       "  </tbody>\n",
       "</table>\n",
       "</div>"
      ],
      "text/plain": [
       "                 Logistic regression  Decision Tree  Decision Tree tuned  \\\n",
       "Precision Train             0.970806       1.000000             0.964806   \n",
       "Precision Test              0.955556       0.934085             0.955556   \n",
       "Recall Train                0.970588       1.000000             0.960784   \n",
       "Recall Test                 0.955556       0.933333             0.955556   \n",
       "Accuracy Train              0.970588       1.000000             0.960784   \n",
       "Accuracy Test               0.955556       0.933333             0.955556   \n",
       "F1 macro Train              0.970554       1.000000             0.960492   \n",
       "F1 macro Test               0.955556       0.933085             0.955556   \n",
       "\n",
       "                 Random Forest  Random Forest tuned       SVM  \n",
       "Precision Train       1.000000             0.960784  0.990502  \n",
       "Precision Test        0.955556             0.978947  0.978947  \n",
       "Recall Train          1.000000             0.960784  0.990196  \n",
       "Recall Test           0.955556             0.977778  0.977778  \n",
       "Accuracy Train        1.000000             0.960784  0.990196  \n",
       "Accuracy Test         0.955556             0.977778  0.977778  \n",
       "F1 macro Train        1.000000             0.960784  0.990203  \n",
       "F1 macro Test         0.955556             0.977695  0.977695  "
      ]
     },
     "execution_count": 54,
     "metadata": {},
     "output_type": "execute_result"
    }
   ],
   "source": [
    "# Updated Evaluation metric Score Chart\n",
    "score['SVM'] = svm_score\n",
    "score"
   ]
  },
  {
   "cell_type": "markdown",
   "id": "3fa78099-a08a-44b7-8db6-37bc57fd2f34",
   "metadata": {},
   "source": [
    "### 2.  cross-validation & Hyperparameter Tuning\n"
   ]
  },
  {
   "cell_type": "code",
   "execution_count": 55,
   "id": "f48aa4a6-9816-4ee3-ada8-349341a0a0b4",
   "metadata": {},
   "outputs": [
    {
     "name": "stdout",
     "output_type": "stream",
     "text": [
      "Best hyperparameters:  {'kernel': 'rbf', 'degree': np.int64(3), 'C': np.float64(9.6)}\n"
     ]
    }
   ],
   "source": [
    "# ML Model - 4 Implementation with hyperparameter optimization techniques (i.e., GridSearch CV, RandomSearch CV, Bayesian Optimization etc.)\n",
    "# Define the hyperparameter grid\n",
    "param_grid = {'C': np.arange(0.1, 10, 0.1),\n",
    "              'kernel': ['linear', 'poly', 'rbf', 'sigmoid'],\n",
    "              'degree': np.arange(2, 6, 1)}\n",
    "\n",
    "# Initialize the model\n",
    "svm = SVC(random_state=0, probability=True)\n",
    "\n",
    "# Repeated stratified kfold\n",
    "rskf = RepeatedStratifiedKFold(n_splits=3, n_repeats=3, random_state=0)\n",
    "\n",
    "# Initialize RandomizedSearchCV with kfold cross-validation\n",
    "random_search = RandomizedSearchCV(svm, param_grid, n_iter=10, cv=rskf, n_jobs=-1)\n",
    "\n",
    "# Fit the RandomizedSearchCV to the training data\n",
    "random_search.fit(X_train, y_train)\n",
    "\n",
    "# Select the best hyperparameters\n",
    "best_params = random_search.best_params_\n",
    "print(\"Best hyperparameters: \", best_params)\n",
    "     "
   ]
  },
  {
   "cell_type": "code",
   "execution_count": 56,
   "id": "7eac3ea0-175b-45ba-b5b3-5cc6d56a16cc",
   "metadata": {},
   "outputs": [],
   "source": [
    "# Initialize model with best parameters\n",
    "svm_model2 = SVC(C = best_params['C'],\n",
    "           kernel = best_params['kernel'],\n",
    "           degree = best_params['degree'],\n",
    "           random_state=0, probability=True)\n",
    "     "
   ]
  },
  {
   "cell_type": "code",
   "execution_count": 57,
   "id": "ffe3aa5a-4121-47c9-8b0c-ad592ffbcb9d",
   "metadata": {},
   "outputs": [
    {
     "name": "stdout",
     "output_type": "stream",
     "text": [
      "\n",
      "Confusion Matrix:\n"
     ]
    },
    {
     "data": {
      "image/png": "[encoded data removed]",
      "text/plain": [
       "<Figure size 1100x400 with 4 Axes>"
      ]
     },
     "metadata": {},
     "output_type": "display_data"
    },
    {
     "name": "stdout",
     "output_type": "stream",
     "text": [
      "\n",
      "Train Classification Report:\n",
      "|              |   precision |   recall |   f1-score |    support |\n",
      "|:-------------|------------:|---------:|-----------:|-----------:|\n",
      "| 0            |    1        | 1        |   1        |  36        |\n",
      "| 1            |    1        | 0.971429 |   0.985507 |  35        |\n",
      "| 2            |    0.96875  | 1        |   0.984127 |  31        |\n",
      "| accuracy     |    0.990196 | 0.990196 |   0.990196 |   0.990196 |\n",
      "| macro avg    |    0.989583 | 0.990476 |   0.989878 | 102        |\n",
      "| weighted avg |    0.990502 | 0.990196 |   0.990203 | 102        |\n",
      "\n",
      "Test Classification Report:\n",
      "|              |   precision |   recall |   f1-score |   support |\n",
      "|:-------------|------------:|---------:|-----------:|----------:|\n",
      "| 0            |    1        | 1        |   1        | 12        |\n",
      "| 1            |    0.933333 | 0.933333 |   0.933333 | 15        |\n",
      "| 2            |    0.944444 | 0.944444 |   0.944444 | 18        |\n",
      "| accuracy     |    0.955556 | 0.955556 |   0.955556 |  0.955556 |\n",
      "| macro avg    |    0.959259 | 0.959259 |   0.959259 | 45        |\n",
      "| weighted avg |    0.955556 | 0.955556 |   0.955556 | 45        |\n"
     ]
    }
   ],
   "source": [
    "# Visualizing evaluation Metric Score chart\n",
    "svm2_score = evaluate_model(svm_model2, X_train, X_test, y_train, y_test)\n",
    "     "
   ]
  },
  {
   "cell_type": "code",
   "execution_count": 58,
   "id": "8c693717-37b6-4a57-aa67-544b82df7d23",
   "metadata": {},
   "outputs": [],
   "source": [
    "score['SVM tuned'] = svm2_score"
   ]
  },
  {
   "cell_type": "code",
   "execution_count": 59,
   "id": "4448f05a-5980-4571-bc3e-ac4b65c9f931",
   "metadata": {},
   "outputs": [
    {
     "data": {
      "text/html": [
       "<div>\n",
       "<style scoped>\n",
       "    .dataframe tbody tr th:only-of-type {\n",
       "        vertical-align: middle;\n",
       "    }\n",
       "\n",
       "    .dataframe tbody tr th {\n",
       "        vertical-align: top;\n",
       "    }\n",
       "\n",
       "    .dataframe thead th {\n",
       "        text-align: right;\n",
       "    }\n",
       "</style>\n",
       "<table border=\"1\" class=\"dataframe\">\n",
       "  <thead>\n",
       "    <tr style=\"text-align: right;\">\n",
       "      <th></th>\n",
       "      <th>Logistic regression</th>\n",
       "      <th>Decision Tree</th>\n",
       "      <th>Decision Tree tuned</th>\n",
       "      <th>Random Forest</th>\n",
       "      <th>Random Forest tuned</th>\n",
       "      <th>SVM</th>\n",
       "      <th>SVM tuned</th>\n",
       "    </tr>\n",
       "  </thead>\n",
       "  <tbody>\n",
       "    <tr>\n",
       "      <th>Precision Train</th>\n",
       "      <td>0.970806</td>\n",
       "      <td>1.000000</td>\n",
       "      <td>0.964806</td>\n",
       "      <td>1.000000</td>\n",
       "      <td>0.960784</td>\n",
       "      <td>0.990502</td>\n",
       "      <td>0.990502</td>\n",
       "    </tr>\n",
       "    <tr>\n",
       "      <th>Precision Test</th>\n",
       "      <td>0.955556</td>\n",
       "      <td>0.934085</td>\n",
       "      <td>0.955556</td>\n",
       "      <td>0.955556</td>\n",
       "      <td>0.978947</td>\n",
       "      <td>0.978947</td>\n",
       "      <td>0.955556</td>\n",
       "    </tr>\n",
       "    <tr>\n",
       "      <th>Recall Train</th>\n",
       "      <td>0.970588</td>\n",
       "      <td>1.000000</td>\n",
       "      <td>0.960784</td>\n",
       "      <td>1.000000</td>\n",
       "      <td>0.960784</td>\n",
       "      <td>0.990196</td>\n",
       "      <td>0.990196</td>\n",
       "    </tr>\n",
       "    <tr>\n",
       "      <th>Recall Test</th>\n",
       "      <td>0.955556</td>\n",
       "      <td>0.933333</td>\n",
       "      <td>0.955556</td>\n",
       "      <td>0.955556</td>\n",
       "      <td>0.977778</td>\n",
       "      <td>0.977778</td>\n",
       "      <td>0.955556</td>\n",
       "    </tr>\n",
       "    <tr>\n",
       "      <th>Accuracy Train</th>\n",
       "      <td>0.970588</td>\n",
       "      <td>1.000000</td>\n",
       "      <td>0.960784</td>\n",
       "      <td>1.000000</td>\n",
       "      <td>0.960784</td>\n",
       "      <td>0.990196</td>\n",
       "      <td>0.990196</td>\n",
       "    </tr>\n",
       "    <tr>\n",
       "      <th>Accuracy Test</th>\n",
       "      <td>0.955556</td>\n",
       "      <td>0.933333</td>\n",
       "      <td>0.955556</td>\n",
       "      <td>0.955556</td>\n",
       "      <td>0.977778</td>\n",
       "      <td>0.977778</td>\n",
       "      <td>0.955556</td>\n",
       "    </tr>\n",
       "    <tr>\n",
       "      <th>F1 macro Train</th>\n",
       "      <td>0.970554</td>\n",
       "      <td>1.000000</td>\n",
       "      <td>0.960492</td>\n",
       "      <td>1.000000</td>\n",
       "      <td>0.960784</td>\n",
       "      <td>0.990203</td>\n",
       "      <td>0.990203</td>\n",
       "    </tr>\n",
       "    <tr>\n",
       "      <th>F1 macro Test</th>\n",
       "      <td>0.955556</td>\n",
       "      <td>0.933085</td>\n",
       "      <td>0.955556</td>\n",
       "      <td>0.955556</td>\n",
       "      <td>0.977695</td>\n",
       "      <td>0.977695</td>\n",
       "      <td>0.955556</td>\n",
       "    </tr>\n",
       "  </tbody>\n",
       "</table>\n",
       "</div>"
      ],
      "text/plain": [
       "                 Logistic regression  Decision Tree  Decision Tree tuned  \\\n",
       "Precision Train             0.970806       1.000000             0.964806   \n",
       "Precision Test              0.955556       0.934085             0.955556   \n",
       "Recall Train                0.970588       1.000000             0.960784   \n",
       "Recall Test                 0.955556       0.933333             0.955556   \n",
       "Accuracy Train              0.970588       1.000000             0.960784   \n",
       "Accuracy Test               0.955556       0.933333             0.955556   \n",
       "F1 macro Train              0.970554       1.000000             0.960492   \n",
       "F1 macro Test               0.955556       0.933085             0.955556   \n",
       "\n",
       "                 Random Forest  Random Forest tuned       SVM  SVM tuned  \n",
       "Precision Train       1.000000             0.960784  0.990502   0.990502  \n",
       "Precision Test        0.955556             0.978947  0.978947   0.955556  \n",
       "Recall Train          1.000000             0.960784  0.990196   0.990196  \n",
       "Recall Test           0.955556             0.977778  0.977778   0.955556  \n",
       "Accuracy Train        1.000000             0.960784  0.990196   0.990196  \n",
       "Accuracy Test         0.955556             0.977778  0.977778   0.955556  \n",
       "F1 macro Train        1.000000             0.960784  0.990203   0.990203  \n",
       "F1 macro Test         0.955556             0.977695  0.977695   0.955556  "
      ]
     },
     "execution_count": 59,
     "metadata": {},
     "output_type": "execute_result"
    }
   ],
   "source": [
    "# Updated Evaluation metric Score Chart\n",
    "score"
   ]
  },
  {
   "cell_type": "markdown",
   "id": "965d8933-815d-40a5-a53d-3ebb378579a4",
   "metadata": {},
   "source": [
    "# ML Model-5 Xtreme Gradient Boosting"
   ]
  },
  {
   "cell_type": "code",
   "execution_count": 60,
   "id": "273a8567-53fa-49d3-b74f-fb23a08ee6a4",
   "metadata": {},
   "outputs": [],
   "source": [
    "# ML Model - 5 Implementation\n",
    "xgb_model = xgb.XGBClassifier()\n",
    "\n",
    "# Model is trained (fit) and predicted in the evaluate model"
   ]
  },
  {
   "cell_type": "markdown",
   "id": "c821e455-c9cd-4b4e-9a6d-4b240352a2a2",
   "metadata": {},
   "source": [
    "### 1. . Explain the ML Model used and it's performance using Evaluation metric Score Chart."
   ]
  },
  {
   "cell_type": "code",
   "execution_count": 61,
   "id": "a18d8ab5-2436-4bdf-b2b3-fc3024c4546a",
   "metadata": {},
   "outputs": [
    {
     "name": "stdout",
     "output_type": "stream",
     "text": [
      "\n",
      "Confusion Matrix:\n"
     ]
    },
    {
     "data": {
      "image/png": "[encoded data removed]",
      "text/plain": [
       "<Figure size 1100x400 with 4 Axes>"
      ]
     },
     "metadata": {},
     "output_type": "display_data"
    },
    {
     "name": "stdout",
     "output_type": "stream",
     "text": [
      "\n",
      "Train Classification Report:\n",
      "|              |   precision |   recall |   f1-score |   support |\n",
      "|:-------------|------------:|---------:|-----------:|----------:|\n",
      "| 0            |           1 |        1 |          1 |        36 |\n",
      "| 1            |           1 |        1 |          1 |        35 |\n",
      "| 2            |           1 |        1 |          1 |        31 |\n",
      "| accuracy     |           1 |        1 |          1 |         1 |\n",
      "| macro avg    |           1 |        1 |          1 |       102 |\n",
      "| weighted avg |           1 |        1 |          1 |       102 |\n",
      "\n",
      "Test Classification Report:\n",
      "|              |   precision |   recall |   f1-score |   support |\n",
      "|:-------------|------------:|---------:|-----------:|----------:|\n",
      "| 0            |    1        | 1        |   1        | 12        |\n",
      "| 1            |    0.933333 | 0.933333 |   0.933333 | 15        |\n",
      "| 2            |    0.944444 | 0.944444 |   0.944444 | 18        |\n",
      "| accuracy     |    0.955556 | 0.955556 |   0.955556 |  0.955556 |\n",
      "| macro avg    |    0.959259 | 0.959259 |   0.959259 | 45        |\n",
      "| weighted avg |    0.955556 | 0.955556 |   0.955556 | 45        |\n"
     ]
    }
   ],
   "source": [
    "# Visualizing evaluation Metric Score chart\n",
    "xgb_score = evaluate_model(xgb_model, X_train, X_test, y_train, y_test)\n",
    "     "
   ]
  },
  {
   "cell_type": "code",
   "execution_count": 62,
   "id": "d3be5734-c134-4fa3-a1ac-2751752c189e",
   "metadata": {},
   "outputs": [
    {
     "data": {
      "text/html": [
       "<div>\n",
       "<style scoped>\n",
       "    .dataframe tbody tr th:only-of-type {\n",
       "        vertical-align: middle;\n",
       "    }\n",
       "\n",
       "    .dataframe tbody tr th {\n",
       "        vertical-align: top;\n",
       "    }\n",
       "\n",
       "    .dataframe thead th {\n",
       "        text-align: right;\n",
       "    }\n",
       "</style>\n",
       "<table border=\"1\" class=\"dataframe\">\n",
       "  <thead>\n",
       "    <tr style=\"text-align: right;\">\n",
       "      <th></th>\n",
       "      <th>Logistic regression</th>\n",
       "      <th>Decision Tree</th>\n",
       "      <th>Decision Tree tuned</th>\n",
       "      <th>Random Forest</th>\n",
       "      <th>Random Forest tuned</th>\n",
       "      <th>SVM</th>\n",
       "      <th>SVM tuned</th>\n",
       "      <th>XGB</th>\n",
       "    </tr>\n",
       "  </thead>\n",
       "  <tbody>\n",
       "    <tr>\n",
       "      <th>Precision Train</th>\n",
       "      <td>0.970806</td>\n",
       "      <td>1.000000</td>\n",
       "      <td>0.964806</td>\n",
       "      <td>1.000000</td>\n",
       "      <td>0.960784</td>\n",
       "      <td>0.990502</td>\n",
       "      <td>0.990502</td>\n",
       "      <td>1.000000</td>\n",
       "    </tr>\n",
       "    <tr>\n",
       "      <th>Precision Test</th>\n",
       "      <td>0.955556</td>\n",
       "      <td>0.934085</td>\n",
       "      <td>0.955556</td>\n",
       "      <td>0.955556</td>\n",
       "      <td>0.978947</td>\n",
       "      <td>0.978947</td>\n",
       "      <td>0.955556</td>\n",
       "      <td>0.955556</td>\n",
       "    </tr>\n",
       "    <tr>\n",
       "      <th>Recall Train</th>\n",
       "      <td>0.970588</td>\n",
       "      <td>1.000000</td>\n",
       "      <td>0.960784</td>\n",
       "      <td>1.000000</td>\n",
       "      <td>0.960784</td>\n",
       "      <td>0.990196</td>\n",
       "      <td>0.990196</td>\n",
       "      <td>1.000000</td>\n",
       "    </tr>\n",
       "    <tr>\n",
       "      <th>Recall Test</th>\n",
       "      <td>0.955556</td>\n",
       "      <td>0.933333</td>\n",
       "      <td>0.955556</td>\n",
       "      <td>0.955556</td>\n",
       "      <td>0.977778</td>\n",
       "      <td>0.977778</td>\n",
       "      <td>0.955556</td>\n",
       "      <td>0.955556</td>\n",
       "    </tr>\n",
       "    <tr>\n",
       "      <th>Accuracy Train</th>\n",
       "      <td>0.970588</td>\n",
       "      <td>1.000000</td>\n",
       "      <td>0.960784</td>\n",
       "      <td>1.000000</td>\n",
       "      <td>0.960784</td>\n",
       "      <td>0.990196</td>\n",
       "      <td>0.990196</td>\n",
       "      <td>1.000000</td>\n",
       "    </tr>\n",
       "    <tr>\n",
       "      <th>Accuracy Test</th>\n",
       "      <td>0.955556</td>\n",
       "      <td>0.933333</td>\n",
       "      <td>0.955556</td>\n",
       "      <td>0.955556</td>\n",
       "      <td>0.977778</td>\n",
       "      <td>0.977778</td>\n",
       "      <td>0.955556</td>\n",
       "      <td>0.955556</td>\n",
       "    </tr>\n",
       "    <tr>\n",
       "      <th>F1 macro Train</th>\n",
       "      <td>0.970554</td>\n",
       "      <td>1.000000</td>\n",
       "      <td>0.960492</td>\n",
       "      <td>1.000000</td>\n",
       "      <td>0.960784</td>\n",
       "      <td>0.990203</td>\n",
       "      <td>0.990203</td>\n",
       "      <td>1.000000</td>\n",
       "    </tr>\n",
       "    <tr>\n",
       "      <th>F1 macro Test</th>\n",
       "      <td>0.955556</td>\n",
       "      <td>0.933085</td>\n",
       "      <td>0.955556</td>\n",
       "      <td>0.955556</td>\n",
       "      <td>0.977695</td>\n",
       "      <td>0.977695</td>\n",
       "      <td>0.955556</td>\n",
       "      <td>0.955556</td>\n",
       "    </tr>\n",
       "  </tbody>\n",
       "</table>\n",
       "</div>"
      ],
      "text/plain": [
       "                 Logistic regression  Decision Tree  Decision Tree tuned  \\\n",
       "Precision Train             0.970806       1.000000             0.964806   \n",
       "Precision Test              0.955556       0.934085             0.955556   \n",
       "Recall Train                0.970588       1.000000             0.960784   \n",
       "Recall Test                 0.955556       0.933333             0.955556   \n",
       "Accuracy Train              0.970588       1.000000             0.960784   \n",
       "Accuracy Test               0.955556       0.933333             0.955556   \n",
       "F1 macro Train              0.970554       1.000000             0.960492   \n",
       "F1 macro Test               0.955556       0.933085             0.955556   \n",
       "\n",
       "                 Random Forest  Random Forest tuned       SVM  SVM tuned  \\\n",
       "Precision Train       1.000000             0.960784  0.990502   0.990502   \n",
       "Precision Test        0.955556             0.978947  0.978947   0.955556   \n",
       "Recall Train          1.000000             0.960784  0.990196   0.990196   \n",
       "Recall Test           0.955556             0.977778  0.977778   0.955556   \n",
       "Accuracy Train        1.000000             0.960784  0.990196   0.990196   \n",
       "Accuracy Test         0.955556             0.977778  0.977778   0.955556   \n",
       "F1 macro Train        1.000000             0.960784  0.990203   0.990203   \n",
       "F1 macro Test         0.955556             0.977695  0.977695   0.955556   \n",
       "\n",
       "                      XGB  \n",
       "Precision Train  1.000000  \n",
       "Precision Test   0.955556  \n",
       "Recall Train     1.000000  \n",
       "Recall Test      0.955556  \n",
       "Accuracy Train   1.000000  \n",
       "Accuracy Test    0.955556  \n",
       "F1 macro Train   1.000000  \n",
       "F1 macro Test    0.955556  "
      ]
     },
     "execution_count": 62,
     "metadata": {},
     "output_type": "execute_result"
    }
   ],
   "source": [
    "# Updated Evaluation metric Score Chart\n",
    "score['XGB'] = xgb_score\n",
    "score"
   ]
  },
  {
   "cell_type": "markdown",
   "id": "365a394a-b0a9-4fb4-95ab-64a8af3a084a",
   "metadata": {},
   "source": [
    "### 2.Cross- Validation & Hyperparameter Tuning"
   ]
  },
  {
   "cell_type": "code",
   "execution_count": 63,
   "id": "70f6c3f5-e078-4500-bc9f-fe016dadb139",
   "metadata": {},
   "outputs": [
    {
     "name": "stdout",
     "output_type": "stream",
     "text": [
      "Best hyperparameters:  {'n_estimators': np.int64(150), 'max_depth': np.int64(13), 'learning_rate': np.float64(0.14)}\n"
     ]
    }
   ],
   "source": [
    "# ML Model - 5 Implementation with hyperparameter optimization techniques (i.e., GridSearch CV, RandomSearch CV, Bayesian Optimization etc.)\n",
    "# Define the hyperparameter grid\n",
    "param_grid = {'learning_rate': np.arange(0.01, 0.3, 0.01),\n",
    "              'max_depth': np.arange(3, 15, 1),\n",
    "              'n_estimators': np.arange(100, 200, 10)}\n",
    "\n",
    "# Initialize the model\n",
    "xgb2 = xgb.XGBClassifier(random_state=0)\n",
    "\n",
    "# Repeated stratified kfold\n",
    "rskf = RepeatedStratifiedKFold(n_splits=3, n_repeats=3, random_state=0)\n",
    "\n",
    "# Initialize RandomizedSearchCV\n",
    "random_search = RandomizedSearchCV(xgb2, param_grid, n_iter=10, cv=rskf)\n",
    "\n",
    "# Fit the RandomizedSearchCV to the training data\n",
    "random_search.fit(X_train, y_train)\n",
    "\n",
    "# Select the best hyperparameters\n",
    "best_params = random_search.best_params_\n",
    "print(\"Best hyperparameters: \", best_params)"
   ]
  },
  {
   "cell_type": "code",
   "execution_count": 64,
   "id": "0ec913a3-c04a-4f8a-b1e6-815c418a2b6e",
   "metadata": {},
   "outputs": [],
   "source": [
    "# Initialize model with best parameters\n",
    "xgb_model2 = xgb.XGBClassifier(learning_rate = best_params['learning_rate'],\n",
    "                                 max_depth = best_params['max_depth'],\n",
    "                               n_estimators = best_params['n_estimators'],\n",
    "                                 random_state=0)"
   ]
  },
  {
   "cell_type": "code",
   "execution_count": 65,
   "id": "1e6ca5f3-90ee-4d15-bb83-a09b735ef847",
   "metadata": {},
   "outputs": [
    {
     "name": "stdout",
     "output_type": "stream",
     "text": [
      "\n",
      "Confusion Matrix:\n"
     ]
    },
    {
     "data": {
      "image/png": "[encoded data removed]",
      "text/plain": [
       "<Figure size 1100x400 with 4 Axes>"
      ]
     },
     "metadata": {},
     "output_type": "display_data"
    },
    {
     "name": "stdout",
     "output_type": "stream",
     "text": [
      "\n",
      "Train Classification Report:\n",
      "|              |   precision |   recall |   f1-score |   support |\n",
      "|:-------------|------------:|---------:|-----------:|----------:|\n",
      "| 0            |           1 |        1 |          1 |        36 |\n",
      "| 1            |           1 |        1 |          1 |        35 |\n",
      "| 2            |           1 |        1 |          1 |        31 |\n",
      "| accuracy     |           1 |        1 |          1 |         1 |\n",
      "| macro avg    |           1 |        1 |          1 |       102 |\n",
      "| weighted avg |           1 |        1 |          1 |       102 |\n",
      "\n",
      "Test Classification Report:\n",
      "|              |   precision |   recall |   f1-score |   support |\n",
      "|:-------------|------------:|---------:|-----------:|----------:|\n",
      "| 0            |    1        | 1        |   1        | 12        |\n",
      "| 1            |    0.933333 | 0.933333 |   0.933333 | 15        |\n",
      "| 2            |    0.944444 | 0.944444 |   0.944444 | 18        |\n",
      "| accuracy     |    0.955556 | 0.955556 |   0.955556 |  0.955556 |\n",
      "| macro avg    |    0.959259 | 0.959259 |   0.959259 | 45        |\n",
      "| weighted avg |    0.955556 | 0.955556 |   0.955556 | 45        |\n"
     ]
    }
   ],
   "source": [
    "\n",
    "# Visualizing evaluation Metric Score chart\n",
    "xgb2_score = evaluate_model(xgb_model2, X_train, X_test, y_train, y_test)"
   ]
  },
  {
   "cell_type": "code",
   "execution_count": 66,
   "id": "67f57bba-f3c3-462f-8aef-e031e233edff",
   "metadata": {},
   "outputs": [],
   "source": [
    "score['XGB tuned'] = xgb2_score"
   ]
  },
  {
   "cell_type": "code",
   "execution_count": 67,
   "id": "4c7ff0b8-2c1e-43ff-9e2b-b1b3ff1678ab",
   "metadata": {},
   "outputs": [
    {
     "data": {
      "text/html": [
       "<div>\n",
       "<style scoped>\n",
       "    .dataframe tbody tr th:only-of-type {\n",
       "        vertical-align: middle;\n",
       "    }\n",
       "\n",
       "    .dataframe tbody tr th {\n",
       "        vertical-align: top;\n",
       "    }\n",
       "\n",
       "    .dataframe thead th {\n",
       "        text-align: right;\n",
       "    }\n",
       "</style>\n",
       "<table border=\"1\" class=\"dataframe\">\n",
       "  <thead>\n",
       "    <tr style=\"text-align: right;\">\n",
       "      <th></th>\n",
       "      <th>Logistic regression</th>\n",
       "      <th>Decision Tree</th>\n",
       "      <th>Decision Tree tuned</th>\n",
       "      <th>Random Forest</th>\n",
       "      <th>Random Forest tuned</th>\n",
       "      <th>SVM</th>\n",
       "      <th>SVM tuned</th>\n",
       "      <th>XGB</th>\n",
       "      <th>XGB tuned</th>\n",
       "    </tr>\n",
       "  </thead>\n",
       "  <tbody>\n",
       "    <tr>\n",
       "      <th>Precision Train</th>\n",
       "      <td>0.970806</td>\n",
       "      <td>1.000000</td>\n",
       "      <td>0.964806</td>\n",
       "      <td>1.000000</td>\n",
       "      <td>0.960784</td>\n",
       "      <td>0.990502</td>\n",
       "      <td>0.990502</td>\n",
       "      <td>1.000000</td>\n",
       "      <td>1.000000</td>\n",
       "    </tr>\n",
       "    <tr>\n",
       "      <th>Precision Test</th>\n",
       "      <td>0.955556</td>\n",
       "      <td>0.934085</td>\n",
       "      <td>0.955556</td>\n",
       "      <td>0.955556</td>\n",
       "      <td>0.978947</td>\n",
       "      <td>0.978947</td>\n",
       "      <td>0.955556</td>\n",
       "      <td>0.955556</td>\n",
       "      <td>0.955556</td>\n",
       "    </tr>\n",
       "    <tr>\n",
       "      <th>Recall Train</th>\n",
       "      <td>0.970588</td>\n",
       "      <td>1.000000</td>\n",
       "      <td>0.960784</td>\n",
       "      <td>1.000000</td>\n",
       "      <td>0.960784</td>\n",
       "      <td>0.990196</td>\n",
       "      <td>0.990196</td>\n",
       "      <td>1.000000</td>\n",
       "      <td>1.000000</td>\n",
       "    </tr>\n",
       "    <tr>\n",
       "      <th>Recall Test</th>\n",
       "      <td>0.955556</td>\n",
       "      <td>0.933333</td>\n",
       "      <td>0.955556</td>\n",
       "      <td>0.955556</td>\n",
       "      <td>0.977778</td>\n",
       "      <td>0.977778</td>\n",
       "      <td>0.955556</td>\n",
       "      <td>0.955556</td>\n",
       "      <td>0.955556</td>\n",
       "    </tr>\n",
       "    <tr>\n",
       "      <th>Accuracy Train</th>\n",
       "      <td>0.970588</td>\n",
       "      <td>1.000000</td>\n",
       "      <td>0.960784</td>\n",
       "      <td>1.000000</td>\n",
       "      <td>0.960784</td>\n",
       "      <td>0.990196</td>\n",
       "      <td>0.990196</td>\n",
       "      <td>1.000000</td>\n",
       "      <td>1.000000</td>\n",
       "    </tr>\n",
       "    <tr>\n",
       "      <th>Accuracy Test</th>\n",
       "      <td>0.955556</td>\n",
       "      <td>0.933333</td>\n",
       "      <td>0.955556</td>\n",
       "      <td>0.955556</td>\n",
       "      <td>0.977778</td>\n",
       "      <td>0.977778</td>\n",
       "      <td>0.955556</td>\n",
       "      <td>0.955556</td>\n",
       "      <td>0.955556</td>\n",
       "    </tr>\n",
       "    <tr>\n",
       "      <th>F1 macro Train</th>\n",
       "      <td>0.970554</td>\n",
       "      <td>1.000000</td>\n",
       "      <td>0.960492</td>\n",
       "      <td>1.000000</td>\n",
       "      <td>0.960784</td>\n",
       "      <td>0.990203</td>\n",
       "      <td>0.990203</td>\n",
       "      <td>1.000000</td>\n",
       "      <td>1.000000</td>\n",
       "    </tr>\n",
       "    <tr>\n",
       "      <th>F1 macro Test</th>\n",
       "      <td>0.955556</td>\n",
       "      <td>0.933085</td>\n",
       "      <td>0.955556</td>\n",
       "      <td>0.955556</td>\n",
       "      <td>0.977695</td>\n",
       "      <td>0.977695</td>\n",
       "      <td>0.955556</td>\n",
       "      <td>0.955556</td>\n",
       "      <td>0.955556</td>\n",
       "    </tr>\n",
       "  </tbody>\n",
       "</table>\n",
       "</div>"
      ],
      "text/plain": [
       "                 Logistic regression  Decision Tree  Decision Tree tuned  \\\n",
       "Precision Train             0.970806       1.000000             0.964806   \n",
       "Precision Test              0.955556       0.934085             0.955556   \n",
       "Recall Train                0.970588       1.000000             0.960784   \n",
       "Recall Test                 0.955556       0.933333             0.955556   \n",
       "Accuracy Train              0.970588       1.000000             0.960784   \n",
       "Accuracy Test               0.955556       0.933333             0.955556   \n",
       "F1 macro Train              0.970554       1.000000             0.960492   \n",
       "F1 macro Test               0.955556       0.933085             0.955556   \n",
       "\n",
       "                 Random Forest  Random Forest tuned       SVM  SVM tuned  \\\n",
       "Precision Train       1.000000             0.960784  0.990502   0.990502   \n",
       "Precision Test        0.955556             0.978947  0.978947   0.955556   \n",
       "Recall Train          1.000000             0.960784  0.990196   0.990196   \n",
       "Recall Test           0.955556             0.977778  0.977778   0.955556   \n",
       "Accuracy Train        1.000000             0.960784  0.990196   0.990196   \n",
       "Accuracy Test         0.955556             0.977778  0.977778   0.955556   \n",
       "F1 macro Train        1.000000             0.960784  0.990203   0.990203   \n",
       "F1 macro Test         0.955556             0.977695  0.977695   0.955556   \n",
       "\n",
       "                      XGB  XGB tuned  \n",
       "Precision Train  1.000000   1.000000  \n",
       "Precision Test   0.955556   0.955556  \n",
       "Recall Train     1.000000   1.000000  \n",
       "Recall Test      0.955556   0.955556  \n",
       "Accuracy Train   1.000000   1.000000  \n",
       "Accuracy Test    0.955556   0.955556  \n",
       "F1 macro Train   1.000000   1.000000  \n",
       "F1 macro Test    0.955556   0.955556  "
      ]
     },
     "execution_count": 67,
     "metadata": {},
     "output_type": "execute_result"
    }
   ],
   "source": [
    "\n",
    "# Updated Evaluation metric Score Chart\n",
    "score"
   ]
  },
  {
   "cell_type": "markdown",
   "id": "66ac72d1-a17a-4d27-9926-bdfe5ab2e586",
   "metadata": {},
   "source": [
    "# ML Model -6: Naive Bayes"
   ]
  },
  {
   "cell_type": "code",
   "execution_count": 68,
   "id": "ffdc1017-06c5-4f91-91b8-eb54ce9a148e",
   "metadata": {},
   "outputs": [],
   "source": [
    "# ML Model - 6 Implementation\n",
    "nb_model = GaussianNB()\n",
    "\n",
    "# Model is trained (fit) and predicted in the evaluate model"
   ]
  },
  {
   "cell_type": "markdown",
   "id": "5d139415-c643-417e-ab1a-ad41f799a1a1",
   "metadata": {},
   "source": [
    "### 1. Explain the ML Model used and it's performance using Evaluation metric Score Chart."
   ]
  },
  {
   "cell_type": "code",
   "execution_count": 69,
   "id": "b5b3585f-b5f9-4c7d-8b9f-e2097aec43b8",
   "metadata": {},
   "outputs": [
    {
     "name": "stdout",
     "output_type": "stream",
     "text": [
      "\n",
      "Confusion Matrix:\n"
     ]
    },
    {
     "data": {
      "image/png": "[encoded data removed]",
      "text/plain": [
       "<Figure size 1100x400 with 4 Axes>"
      ]
     },
     "metadata": {},
     "output_type": "display_data"
    },
    {
     "name": "stdout",
     "output_type": "stream",
     "text": [
      "\n",
      "Train Classification Report:\n",
      "|              |   precision |   recall |   f1-score |    support |\n",
      "|:-------------|------------:|---------:|-----------:|-----------:|\n",
      "| 0            |    1        | 1        |   1        |  36        |\n",
      "| 1            |    0.918919 | 0.971429 |   0.944444 |  35        |\n",
      "| 2            |    0.965517 | 0.903226 |   0.933333 |  31        |\n",
      "| accuracy     |    0.960784 | 0.960784 |   0.960784 |   0.960784 |\n",
      "| macro avg    |    0.961479 | 0.958218 |   0.959259 | 102        |\n",
      "| weighted avg |    0.961698 | 0.960784 |   0.960675 | 102        |\n",
      "\n",
      "Test Classification Report:\n",
      "|              |   precision |   recall |   f1-score |   support |\n",
      "|:-------------|------------:|---------:|-----------:|----------:|\n",
      "| 0            |    1        | 1        |   1        | 12        |\n",
      "| 1            |    0.933333 | 0.933333 |   0.933333 | 15        |\n",
      "| 2            |    0.944444 | 0.944444 |   0.944444 | 18        |\n",
      "| accuracy     |    0.955556 | 0.955556 |   0.955556 |  0.955556 |\n",
      "| macro avg    |    0.959259 | 0.959259 |   0.959259 | 45        |\n",
      "| weighted avg |    0.955556 | 0.955556 |   0.955556 | 45        |\n"
     ]
    }
   ],
   "source": [
    "# Visualizing evaluation Metric Score chart\n",
    "nb_score = evaluate_model(nb_model, X_train, X_test, y_train, y_test)"
   ]
  },
  {
   "cell_type": "code",
   "execution_count": 70,
   "id": "c1ab53f4-67d8-4fe7-b50d-15c3c11daffd",
   "metadata": {},
   "outputs": [
    {
     "data": {
      "text/html": [
       "<div>\n",
       "<style scoped>\n",
       "    .dataframe tbody tr th:only-of-type {\n",
       "        vertical-align: middle;\n",
       "    }\n",
       "\n",
       "    .dataframe tbody tr th {\n",
       "        vertical-align: top;\n",
       "    }\n",
       "\n",
       "    .dataframe thead th {\n",
       "        text-align: right;\n",
       "    }\n",
       "</style>\n",
       "<table border=\"1\" class=\"dataframe\">\n",
       "  <thead>\n",
       "    <tr style=\"text-align: right;\">\n",
       "      <th></th>\n",
       "      <th>Logistic regression</th>\n",
       "      <th>Decision Tree</th>\n",
       "      <th>Decision Tree tuned</th>\n",
       "      <th>Random Forest</th>\n",
       "      <th>Random Forest tuned</th>\n",
       "      <th>SVM</th>\n",
       "      <th>SVM tuned</th>\n",
       "      <th>XGB</th>\n",
       "      <th>XGB tuned</th>\n",
       "      <th>Naive Bayes</th>\n",
       "    </tr>\n",
       "  </thead>\n",
       "  <tbody>\n",
       "    <tr>\n",
       "      <th>Precision Train</th>\n",
       "      <td>0.970806</td>\n",
       "      <td>1.000000</td>\n",
       "      <td>0.964806</td>\n",
       "      <td>1.000000</td>\n",
       "      <td>0.960784</td>\n",
       "      <td>0.990502</td>\n",
       "      <td>0.990502</td>\n",
       "      <td>1.000000</td>\n",
       "      <td>1.000000</td>\n",
       "      <td>0.961698</td>\n",
       "    </tr>\n",
       "    <tr>\n",
       "      <th>Precision Test</th>\n",
       "      <td>0.955556</td>\n",
       "      <td>0.934085</td>\n",
       "      <td>0.955556</td>\n",
       "      <td>0.955556</td>\n",
       "      <td>0.978947</td>\n",
       "      <td>0.978947</td>\n",
       "      <td>0.955556</td>\n",
       "      <td>0.955556</td>\n",
       "      <td>0.955556</td>\n",
       "      <td>0.955556</td>\n",
       "    </tr>\n",
       "    <tr>\n",
       "      <th>Recall Train</th>\n",
       "      <td>0.970588</td>\n",
       "      <td>1.000000</td>\n",
       "      <td>0.960784</td>\n",
       "      <td>1.000000</td>\n",
       "      <td>0.960784</td>\n",
       "      <td>0.990196</td>\n",
       "      <td>0.990196</td>\n",
       "      <td>1.000000</td>\n",
       "      <td>1.000000</td>\n",
       "      <td>0.960784</td>\n",
       "    </tr>\n",
       "    <tr>\n",
       "      <th>Recall Test</th>\n",
       "      <td>0.955556</td>\n",
       "      <td>0.933333</td>\n",
       "      <td>0.955556</td>\n",
       "      <td>0.955556</td>\n",
       "      <td>0.977778</td>\n",
       "      <td>0.977778</td>\n",
       "      <td>0.955556</td>\n",
       "      <td>0.955556</td>\n",
       "      <td>0.955556</td>\n",
       "      <td>0.955556</td>\n",
       "    </tr>\n",
       "    <tr>\n",
       "      <th>Accuracy Train</th>\n",
       "      <td>0.970588</td>\n",
       "      <td>1.000000</td>\n",
       "      <td>0.960784</td>\n",
       "      <td>1.000000</td>\n",
       "      <td>0.960784</td>\n",
       "      <td>0.990196</td>\n",
       "      <td>0.990196</td>\n",
       "      <td>1.000000</td>\n",
       "      <td>1.000000</td>\n",
       "      <td>0.960784</td>\n",
       "    </tr>\n",
       "    <tr>\n",
       "      <th>Accuracy Test</th>\n",
       "      <td>0.955556</td>\n",
       "      <td>0.933333</td>\n",
       "      <td>0.955556</td>\n",
       "      <td>0.955556</td>\n",
       "      <td>0.977778</td>\n",
       "      <td>0.977778</td>\n",
       "      <td>0.955556</td>\n",
       "      <td>0.955556</td>\n",
       "      <td>0.955556</td>\n",
       "      <td>0.955556</td>\n",
       "    </tr>\n",
       "    <tr>\n",
       "      <th>F1 macro Train</th>\n",
       "      <td>0.970554</td>\n",
       "      <td>1.000000</td>\n",
       "      <td>0.960492</td>\n",
       "      <td>1.000000</td>\n",
       "      <td>0.960784</td>\n",
       "      <td>0.990203</td>\n",
       "      <td>0.990203</td>\n",
       "      <td>1.000000</td>\n",
       "      <td>1.000000</td>\n",
       "      <td>0.960675</td>\n",
       "    </tr>\n",
       "    <tr>\n",
       "      <th>F1 macro Test</th>\n",
       "      <td>0.955556</td>\n",
       "      <td>0.933085</td>\n",
       "      <td>0.955556</td>\n",
       "      <td>0.955556</td>\n",
       "      <td>0.977695</td>\n",
       "      <td>0.977695</td>\n",
       "      <td>0.955556</td>\n",
       "      <td>0.955556</td>\n",
       "      <td>0.955556</td>\n",
       "      <td>0.955556</td>\n",
       "    </tr>\n",
       "  </tbody>\n",
       "</table>\n",
       "</div>"
      ],
      "text/plain": [
       "                 Logistic regression  Decision Tree  Decision Tree tuned  \\\n",
       "Precision Train             0.970806       1.000000             0.964806   \n",
       "Precision Test              0.955556       0.934085             0.955556   \n",
       "Recall Train                0.970588       1.000000             0.960784   \n",
       "Recall Test                 0.955556       0.933333             0.955556   \n",
       "Accuracy Train              0.970588       1.000000             0.960784   \n",
       "Accuracy Test               0.955556       0.933333             0.955556   \n",
       "F1 macro Train              0.970554       1.000000             0.960492   \n",
       "F1 macro Test               0.955556       0.933085             0.955556   \n",
       "\n",
       "                 Random Forest  Random Forest tuned       SVM  SVM tuned  \\\n",
       "Precision Train       1.000000             0.960784  0.990502   0.990502   \n",
       "Precision Test        0.955556             0.978947  0.978947   0.955556   \n",
       "Recall Train          1.000000             0.960784  0.990196   0.990196   \n",
       "Recall Test           0.955556             0.977778  0.977778   0.955556   \n",
       "Accuracy Train        1.000000             0.960784  0.990196   0.990196   \n",
       "Accuracy Test         0.955556             0.977778  0.977778   0.955556   \n",
       "F1 macro Train        1.000000             0.960784  0.990203   0.990203   \n",
       "F1 macro Test         0.955556             0.977695  0.977695   0.955556   \n",
       "\n",
       "                      XGB  XGB tuned  Naive Bayes  \n",
       "Precision Train  1.000000   1.000000     0.961698  \n",
       "Precision Test   0.955556   0.955556     0.955556  \n",
       "Recall Train     1.000000   1.000000     0.960784  \n",
       "Recall Test      0.955556   0.955556     0.955556  \n",
       "Accuracy Train   1.000000   1.000000     0.960784  \n",
       "Accuracy Test    0.955556   0.955556     0.955556  \n",
       "F1 macro Train   1.000000   1.000000     0.960675  \n",
       "F1 macro Test    0.955556   0.955556     0.955556  "
      ]
     },
     "execution_count": 70,
     "metadata": {},
     "output_type": "execute_result"
    }
   ],
   "source": [
    "# Updated Evaluation metric Score Chart\n",
    "score['Naive Bayes'] = nb_score\n",
    "score"
   ]
  },
  {
   "cell_type": "markdown",
   "id": "fb590fc0-eba0-4a84-8a5c-984ba7a26bce",
   "metadata": {},
   "source": [
    "### 2. Cross-Validation &Hyperparameter Tuning "
   ]
  },
  {
   "cell_type": "code",
   "execution_count": 71,
   "id": "3c5f88c4-905a-45e2-a1cf-9b0c01e51fbd",
   "metadata": {},
   "outputs": [
    {
     "name": "stdout",
     "output_type": "stream",
     "text": [
      "Best hyperparameters:  {'var_smoothing': np.float64(0.012328467394420659)}\n"
     ]
    }
   ],
   "source": [
    "# ML Model - 6 Implementation with hyperparameter optimization techniques (i.e., GridSearch CV, RandomSearch CV, Bayesian Optimization etc.)\n",
    "# Define the hyperparameter grid\n",
    "param_grid = {'var_smoothing': np.logspace(0,-9, num=100)}\n",
    "\n",
    "# Initialize the model\n",
    "naive = GaussianNB()\n",
    "\n",
    "# repeated stratified kfold\n",
    "rskf = RepeatedStratifiedKFold(n_splits=4, n_repeats=4, random_state=0)\n",
    "\n",
    "# Initialize GridSearchCV\n",
    "GridSearch = GridSearchCV(naive, param_grid, cv=rskf, n_jobs=-1)\n",
    "\n",
    "# Fit the GridSearchCV to the training data\n",
    "GridSearch.fit(X_train, y_train)\n",
    "\n",
    "# Select the best hyperparameters\n",
    "best_params = GridSearch.best_params_\n",
    "print(\"Best hyperparameters: \", best_params)"
   ]
  },
  {
   "cell_type": "code",
   "execution_count": 72,
   "id": "cfb6429f-862b-496b-bb87-61a231d3fc51",
   "metadata": {},
   "outputs": [],
   "source": [
    "# Initiate model with best parameters\n",
    "nb_model2 = GaussianNB(var_smoothing = best_params['var_smoothing'])"
   ]
  },
  {
   "cell_type": "code",
   "execution_count": 73,
   "id": "e5d2981c-fbfa-4f88-b0f5-8f0938fe1e53",
   "metadata": {},
   "outputs": [
    {
     "name": "stdout",
     "output_type": "stream",
     "text": [
      "\n",
      "Confusion Matrix:\n"
     ]
    },
    {
     "data": {
      "image/png": "[encoded data removed]",
      "text/plain": [
       "<Figure size 1100x400 with 4 Axes>"
      ]
     },
     "metadata": {},
     "output_type": "display_data"
    },
    {
     "name": "stdout",
     "output_type": "stream",
     "text": [
      "\n",
      "Train Classification Report:\n",
      "|              |   precision |   recall |   f1-score |    support |\n",
      "|:-------------|------------:|---------:|-----------:|-----------:|\n",
      "| 0            |    1        | 1        |   1        |  36        |\n",
      "| 1            |    0.944444 | 0.971429 |   0.957746 |  35        |\n",
      "| 2            |    0.966667 | 0.935484 |   0.95082  |  31        |\n",
      "| accuracy     |    0.970588 | 0.970588 |   0.970588 |   0.970588 |\n",
      "| macro avg    |    0.97037  | 0.968971 |   0.969522 | 102        |\n",
      "| weighted avg |    0.970806 | 0.970588 |   0.970554 | 102        |\n",
      "\n",
      "Test Classification Report:\n",
      "|              |   precision |   recall |   f1-score |   support |\n",
      "|:-------------|------------:|---------:|-----------:|----------:|\n",
      "| 0            |    1        | 1        |   1        | 12        |\n",
      "| 1            |    0.823529 | 0.933333 |   0.875    | 15        |\n",
      "| 2            |    0.9375   | 0.833333 |   0.882353 | 18        |\n",
      "| accuracy     |    0.911111 | 0.911111 |   0.911111 |  0.911111 |\n",
      "| macro avg    |    0.920343 | 0.922222 |   0.919118 | 45        |\n",
      "| weighted avg |    0.916176 | 0.911111 |   0.911275 | 45        |\n"
     ]
    }
   ],
   "source": [
    "# Visualizing evaluation Metric Score chart\n",
    "nb2_score = evaluate_model(nb_model2, X_train, X_test, y_train, y_test)"
   ]
  },
  {
   "cell_type": "code",
   "execution_count": 74,
   "id": "59120733-5f9d-4b70-83d0-228fa80be0cd",
   "metadata": {},
   "outputs": [],
   "source": [
    "\n",
    "score['Naive Bayes tuned']= nb2_score"
   ]
  },
  {
   "cell_type": "code",
   "execution_count": 75,
   "id": "79ca8db9-e7fd-4bbb-be73-135d1fcfe952",
   "metadata": {},
   "outputs": [
    {
     "data": {
      "text/html": [
       "<div>\n",
       "<style scoped>\n",
       "    .dataframe tbody tr th:only-of-type {\n",
       "        vertical-align: middle;\n",
       "    }\n",
       "\n",
       "    .dataframe tbody tr th {\n",
       "        vertical-align: top;\n",
       "    }\n",
       "\n",
       "    .dataframe thead th {\n",
       "        text-align: right;\n",
       "    }\n",
       "</style>\n",
       "<table border=\"1\" class=\"dataframe\">\n",
       "  <thead>\n",
       "    <tr style=\"text-align: right;\">\n",
       "      <th></th>\n",
       "      <th>Logistic regression</th>\n",
       "      <th>Decision Tree</th>\n",
       "      <th>Decision Tree tuned</th>\n",
       "      <th>Random Forest</th>\n",
       "      <th>Random Forest tuned</th>\n",
       "      <th>SVM</th>\n",
       "      <th>SVM tuned</th>\n",
       "      <th>XGB</th>\n",
       "      <th>XGB tuned</th>\n",
       "      <th>Naive Bayes</th>\n",
       "      <th>Naive Bayes tuned</th>\n",
       "    </tr>\n",
       "  </thead>\n",
       "  <tbody>\n",
       "    <tr>\n",
       "      <th>Precision Train</th>\n",
       "      <td>0.970806</td>\n",
       "      <td>1.000000</td>\n",
       "      <td>0.964806</td>\n",
       "      <td>1.000000</td>\n",
       "      <td>0.960784</td>\n",
       "      <td>0.990502</td>\n",
       "      <td>0.990502</td>\n",
       "      <td>1.000000</td>\n",
       "      <td>1.000000</td>\n",
       "      <td>0.961698</td>\n",
       "      <td>0.970806</td>\n",
       "    </tr>\n",
       "    <tr>\n",
       "      <th>Precision Test</th>\n",
       "      <td>0.955556</td>\n",
       "      <td>0.934085</td>\n",
       "      <td>0.955556</td>\n",
       "      <td>0.955556</td>\n",
       "      <td>0.978947</td>\n",
       "      <td>0.978947</td>\n",
       "      <td>0.955556</td>\n",
       "      <td>0.955556</td>\n",
       "      <td>0.955556</td>\n",
       "      <td>0.955556</td>\n",
       "      <td>0.916176</td>\n",
       "    </tr>\n",
       "    <tr>\n",
       "      <th>Recall Train</th>\n",
       "      <td>0.970588</td>\n",
       "      <td>1.000000</td>\n",
       "      <td>0.960784</td>\n",
       "      <td>1.000000</td>\n",
       "      <td>0.960784</td>\n",
       "      <td>0.990196</td>\n",
       "      <td>0.990196</td>\n",
       "      <td>1.000000</td>\n",
       "      <td>1.000000</td>\n",
       "      <td>0.960784</td>\n",
       "      <td>0.970588</td>\n",
       "    </tr>\n",
       "    <tr>\n",
       "      <th>Recall Test</th>\n",
       "      <td>0.955556</td>\n",
       "      <td>0.933333</td>\n",
       "      <td>0.955556</td>\n",
       "      <td>0.955556</td>\n",
       "      <td>0.977778</td>\n",
       "      <td>0.977778</td>\n",
       "      <td>0.955556</td>\n",
       "      <td>0.955556</td>\n",
       "      <td>0.955556</td>\n",
       "      <td>0.955556</td>\n",
       "      <td>0.911111</td>\n",
       "    </tr>\n",
       "    <tr>\n",
       "      <th>Accuracy Train</th>\n",
       "      <td>0.970588</td>\n",
       "      <td>1.000000</td>\n",
       "      <td>0.960784</td>\n",
       "      <td>1.000000</td>\n",
       "      <td>0.960784</td>\n",
       "      <td>0.990196</td>\n",
       "      <td>0.990196</td>\n",
       "      <td>1.000000</td>\n",
       "      <td>1.000000</td>\n",
       "      <td>0.960784</td>\n",
       "      <td>0.970588</td>\n",
       "    </tr>\n",
       "    <tr>\n",
       "      <th>Accuracy Test</th>\n",
       "      <td>0.955556</td>\n",
       "      <td>0.933333</td>\n",
       "      <td>0.955556</td>\n",
       "      <td>0.955556</td>\n",
       "      <td>0.977778</td>\n",
       "      <td>0.977778</td>\n",
       "      <td>0.955556</td>\n",
       "      <td>0.955556</td>\n",
       "      <td>0.955556</td>\n",
       "      <td>0.955556</td>\n",
       "      <td>0.911111</td>\n",
       "    </tr>\n",
       "    <tr>\n",
       "      <th>F1 macro Train</th>\n",
       "      <td>0.970554</td>\n",
       "      <td>1.000000</td>\n",
       "      <td>0.960492</td>\n",
       "      <td>1.000000</td>\n",
       "      <td>0.960784</td>\n",
       "      <td>0.990203</td>\n",
       "      <td>0.990203</td>\n",
       "      <td>1.000000</td>\n",
       "      <td>1.000000</td>\n",
       "      <td>0.960675</td>\n",
       "      <td>0.970554</td>\n",
       "    </tr>\n",
       "    <tr>\n",
       "      <th>F1 macro Test</th>\n",
       "      <td>0.955556</td>\n",
       "      <td>0.933085</td>\n",
       "      <td>0.955556</td>\n",
       "      <td>0.955556</td>\n",
       "      <td>0.977695</td>\n",
       "      <td>0.977695</td>\n",
       "      <td>0.955556</td>\n",
       "      <td>0.955556</td>\n",
       "      <td>0.955556</td>\n",
       "      <td>0.955556</td>\n",
       "      <td>0.911275</td>\n",
       "    </tr>\n",
       "  </tbody>\n",
       "</table>\n",
       "</div>"
      ],
      "text/plain": [
       "                 Logistic regression  Decision Tree  Decision Tree tuned  \\\n",
       "Precision Train             0.970806       1.000000             0.964806   \n",
       "Precision Test              0.955556       0.934085             0.955556   \n",
       "Recall Train                0.970588       1.000000             0.960784   \n",
       "Recall Test                 0.955556       0.933333             0.955556   \n",
       "Accuracy Train              0.970588       1.000000             0.960784   \n",
       "Accuracy Test               0.955556       0.933333             0.955556   \n",
       "F1 macro Train              0.970554       1.000000             0.960492   \n",
       "F1 macro Test               0.955556       0.933085             0.955556   \n",
       "\n",
       "                 Random Forest  Random Forest tuned       SVM  SVM tuned  \\\n",
       "Precision Train       1.000000             0.960784  0.990502   0.990502   \n",
       "Precision Test        0.955556             0.978947  0.978947   0.955556   \n",
       "Recall Train          1.000000             0.960784  0.990196   0.990196   \n",
       "Recall Test           0.955556             0.977778  0.977778   0.955556   \n",
       "Accuracy Train        1.000000             0.960784  0.990196   0.990196   \n",
       "Accuracy Test         0.955556             0.977778  0.977778   0.955556   \n",
       "F1 macro Train        1.000000             0.960784  0.990203   0.990203   \n",
       "F1 macro Test         0.955556             0.977695  0.977695   0.955556   \n",
       "\n",
       "                      XGB  XGB tuned  Naive Bayes  Naive Bayes tuned  \n",
       "Precision Train  1.000000   1.000000     0.961698           0.970806  \n",
       "Precision Test   0.955556   0.955556     0.955556           0.916176  \n",
       "Recall Train     1.000000   1.000000     0.960784           0.970588  \n",
       "Recall Test      0.955556   0.955556     0.955556           0.911111  \n",
       "Accuracy Train   1.000000   1.000000     0.960784           0.970588  \n",
       "Accuracy Test    0.955556   0.955556     0.955556           0.911111  \n",
       "F1 macro Train   1.000000   1.000000     0.960675           0.970554  \n",
       "F1 macro Test    0.955556   0.955556     0.955556           0.911275  "
      ]
     },
     "execution_count": 75,
     "metadata": {},
     "output_type": "execute_result"
    }
   ],
   "source": [
    "# Updated Evaluation metric Score Chart\n",
    "score"
   ]
  },
  {
   "cell_type": "markdown",
   "id": "b0b210c1-d717-4b32-a7fe-a2a1b187c489",
   "metadata": {},
   "source": [
    "# ML model-7 : Neural Network"
   ]
  },
  {
   "cell_type": "code",
   "execution_count": 76,
   "id": "b7a9c591-3c1a-4e9d-b7fb-3e6a14935d23",
   "metadata": {},
   "outputs": [],
   "source": [
    "# ML Model - 7 Implementation\n",
    "nn_model = MLPClassifier(random_state=0)\n",
    "\n",
    "# Model is trained (fit) and predicted in the evaluate model"
   ]
  },
  {
   "cell_type": "markdown",
   "id": "83f4e91a-bc26-46de-9290-6d2f3d79f59c",
   "metadata": {},
   "source": [
    "### 1. Explain the ML Model used and it's performance using Evaluation metric Score Chart."
   ]
  },
  {
   "cell_type": "code",
   "execution_count": 77,
   "id": "f8c95331-1603-46ee-8362-5261db90c0b9",
   "metadata": {},
   "outputs": [
    {
     "name": "stdout",
     "output_type": "stream",
     "text": [
      "\n",
      "Confusion Matrix:\n"
     ]
    },
    {
     "data": {
      "image/png": "[encoded data removed]",
      "text/plain": [
       "<Figure size 1100x400 with 4 Axes>"
      ]
     },
     "metadata": {},
     "output_type": "display_data"
    },
    {
     "name": "stdout",
     "output_type": "stream",
     "text": [
      "\n",
      "Train Classification Report:\n",
      "|              |   precision |   recall |   f1-score |    support |\n",
      "|:-------------|------------:|---------:|-----------:|-----------:|\n",
      "| 0            |    1        | 1        |   1        |  36        |\n",
      "| 1            |    1        | 0.914286 |   0.955224 |  35        |\n",
      "| 2            |    0.911765 | 1        |   0.953846 |  31        |\n",
      "| accuracy     |    0.970588 | 0.970588 |   0.970588 |   0.970588 |\n",
      "| macro avg    |    0.970588 | 0.971429 |   0.96969  | 102        |\n",
      "| weighted avg |    0.973183 | 0.970588 |   0.970608 | 102        |\n",
      "\n",
      "Test Classification Report:\n",
      "|              |   precision |   recall |   f1-score |   support |\n",
      "|:-------------|------------:|---------:|-----------:|----------:|\n",
      "| 0            |    1        | 1        |   1        | 12        |\n",
      "| 1            |    0.933333 | 0.933333 |   0.933333 | 15        |\n",
      "| 2            |    0.944444 | 0.944444 |   0.944444 | 18        |\n",
      "| accuracy     |    0.955556 | 0.955556 |   0.955556 |  0.955556 |\n",
      "| macro avg    |    0.959259 | 0.959259 |   0.959259 | 45        |\n",
      "| weighted avg |    0.955556 | 0.955556 |   0.955556 | 45        |\n"
     ]
    }
   ],
   "source": [
    "# Visualizing evaluation Metric Score chart\n",
    "neural_score = evaluate_model(nn_model, X_train, X_test, y_train, y_test)"
   ]
  },
  {
   "cell_type": "code",
   "execution_count": 78,
   "id": "34716e5a-5060-4f44-bd3b-6f65f936b1cd",
   "metadata": {},
   "outputs": [
    {
     "data": {
      "text/html": [
       "<div>\n",
       "<style scoped>\n",
       "    .dataframe tbody tr th:only-of-type {\n",
       "        vertical-align: middle;\n",
       "    }\n",
       "\n",
       "    .dataframe tbody tr th {\n",
       "        vertical-align: top;\n",
       "    }\n",
       "\n",
       "    .dataframe thead th {\n",
       "        text-align: right;\n",
       "    }\n",
       "</style>\n",
       "<table border=\"1\" class=\"dataframe\">\n",
       "  <thead>\n",
       "    <tr style=\"text-align: right;\">\n",
       "      <th></th>\n",
       "      <th>Logistic regression</th>\n",
       "      <th>Decision Tree</th>\n",
       "      <th>Decision Tree tuned</th>\n",
       "      <th>Random Forest</th>\n",
       "      <th>Random Forest tuned</th>\n",
       "      <th>SVM</th>\n",
       "      <th>SVM tuned</th>\n",
       "      <th>XGB</th>\n",
       "      <th>XGB tuned</th>\n",
       "      <th>Naive Bayes</th>\n",
       "      <th>Naive Bayes tuned</th>\n",
       "      <th>Neural Network</th>\n",
       "    </tr>\n",
       "  </thead>\n",
       "  <tbody>\n",
       "    <tr>\n",
       "      <th>Precision Train</th>\n",
       "      <td>0.970806</td>\n",
       "      <td>1.000000</td>\n",
       "      <td>0.964806</td>\n",
       "      <td>1.000000</td>\n",
       "      <td>0.960784</td>\n",
       "      <td>0.990502</td>\n",
       "      <td>0.990502</td>\n",
       "      <td>1.000000</td>\n",
       "      <td>1.000000</td>\n",
       "      <td>0.961698</td>\n",
       "      <td>0.970806</td>\n",
       "      <td>0.973183</td>\n",
       "    </tr>\n",
       "    <tr>\n",
       "      <th>Precision Test</th>\n",
       "      <td>0.955556</td>\n",
       "      <td>0.934085</td>\n",
       "      <td>0.955556</td>\n",
       "      <td>0.955556</td>\n",
       "      <td>0.978947</td>\n",
       "      <td>0.978947</td>\n",
       "      <td>0.955556</td>\n",
       "      <td>0.955556</td>\n",
       "      <td>0.955556</td>\n",
       "      <td>0.955556</td>\n",
       "      <td>0.916176</td>\n",
       "      <td>0.955556</td>\n",
       "    </tr>\n",
       "    <tr>\n",
       "      <th>Recall Train</th>\n",
       "      <td>0.970588</td>\n",
       "      <td>1.000000</td>\n",
       "      <td>0.960784</td>\n",
       "      <td>1.000000</td>\n",
       "      <td>0.960784</td>\n",
       "      <td>0.990196</td>\n",
       "      <td>0.990196</td>\n",
       "      <td>1.000000</td>\n",
       "      <td>1.000000</td>\n",
       "      <td>0.960784</td>\n",
       "      <td>0.970588</td>\n",
       "      <td>0.970588</td>\n",
       "    </tr>\n",
       "    <tr>\n",
       "      <th>Recall Test</th>\n",
       "      <td>0.955556</td>\n",
       "      <td>0.933333</td>\n",
       "      <td>0.955556</td>\n",
       "      <td>0.955556</td>\n",
       "      <td>0.977778</td>\n",
       "      <td>0.977778</td>\n",
       "      <td>0.955556</td>\n",
       "      <td>0.955556</td>\n",
       "      <td>0.955556</td>\n",
       "      <td>0.955556</td>\n",
       "      <td>0.911111</td>\n",
       "      <td>0.955556</td>\n",
       "    </tr>\n",
       "    <tr>\n",
       "      <th>Accuracy Train</th>\n",
       "      <td>0.970588</td>\n",
       "      <td>1.000000</td>\n",
       "      <td>0.960784</td>\n",
       "      <td>1.000000</td>\n",
       "      <td>0.960784</td>\n",
       "      <td>0.990196</td>\n",
       "      <td>0.990196</td>\n",
       "      <td>1.000000</td>\n",
       "      <td>1.000000</td>\n",
       "      <td>0.960784</td>\n",
       "      <td>0.970588</td>\n",
       "      <td>0.970588</td>\n",
       "    </tr>\n",
       "    <tr>\n",
       "      <th>Accuracy Test</th>\n",
       "      <td>0.955556</td>\n",
       "      <td>0.933333</td>\n",
       "      <td>0.955556</td>\n",
       "      <td>0.955556</td>\n",
       "      <td>0.977778</td>\n",
       "      <td>0.977778</td>\n",
       "      <td>0.955556</td>\n",
       "      <td>0.955556</td>\n",
       "      <td>0.955556</td>\n",
       "      <td>0.955556</td>\n",
       "      <td>0.911111</td>\n",
       "      <td>0.955556</td>\n",
       "    </tr>\n",
       "    <tr>\n",
       "      <th>F1 macro Train</th>\n",
       "      <td>0.970554</td>\n",
       "      <td>1.000000</td>\n",
       "      <td>0.960492</td>\n",
       "      <td>1.000000</td>\n",
       "      <td>0.960784</td>\n",
       "      <td>0.990203</td>\n",
       "      <td>0.990203</td>\n",
       "      <td>1.000000</td>\n",
       "      <td>1.000000</td>\n",
       "      <td>0.960675</td>\n",
       "      <td>0.970554</td>\n",
       "      <td>0.970608</td>\n",
       "    </tr>\n",
       "    <tr>\n",
       "      <th>F1 macro Test</th>\n",
       "      <td>0.955556</td>\n",
       "      <td>0.933085</td>\n",
       "      <td>0.955556</td>\n",
       "      <td>0.955556</td>\n",
       "      <td>0.977695</td>\n",
       "      <td>0.977695</td>\n",
       "      <td>0.955556</td>\n",
       "      <td>0.955556</td>\n",
       "      <td>0.955556</td>\n",
       "      <td>0.955556</td>\n",
       "      <td>0.911275</td>\n",
       "      <td>0.955556</td>\n",
       "    </tr>\n",
       "  </tbody>\n",
       "</table>\n",
       "</div>"
      ],
      "text/plain": [
       "                 Logistic regression  Decision Tree  Decision Tree tuned  \\\n",
       "Precision Train             0.970806       1.000000             0.964806   \n",
       "Precision Test              0.955556       0.934085             0.955556   \n",
       "Recall Train                0.970588       1.000000             0.960784   \n",
       "Recall Test                 0.955556       0.933333             0.955556   \n",
       "Accuracy Train              0.970588       1.000000             0.960784   \n",
       "Accuracy Test               0.955556       0.933333             0.955556   \n",
       "F1 macro Train              0.970554       1.000000             0.960492   \n",
       "F1 macro Test               0.955556       0.933085             0.955556   \n",
       "\n",
       "                 Random Forest  Random Forest tuned       SVM  SVM tuned  \\\n",
       "Precision Train       1.000000             0.960784  0.990502   0.990502   \n",
       "Precision Test        0.955556             0.978947  0.978947   0.955556   \n",
       "Recall Train          1.000000             0.960784  0.990196   0.990196   \n",
       "Recall Test           0.955556             0.977778  0.977778   0.955556   \n",
       "Accuracy Train        1.000000             0.960784  0.990196   0.990196   \n",
       "Accuracy Test         0.955556             0.977778  0.977778   0.955556   \n",
       "F1 macro Train        1.000000             0.960784  0.990203   0.990203   \n",
       "F1 macro Test         0.955556             0.977695  0.977695   0.955556   \n",
       "\n",
       "                      XGB  XGB tuned  Naive Bayes  Naive Bayes tuned  \\\n",
       "Precision Train  1.000000   1.000000     0.961698           0.970806   \n",
       "Precision Test   0.955556   0.955556     0.955556           0.916176   \n",
       "Recall Train     1.000000   1.000000     0.960784           0.970588   \n",
       "Recall Test      0.955556   0.955556     0.955556           0.911111   \n",
       "Accuracy Train   1.000000   1.000000     0.960784           0.970588   \n",
       "Accuracy Test    0.955556   0.955556     0.955556           0.911111   \n",
       "F1 macro Train   1.000000   1.000000     0.960675           0.970554   \n",
       "F1 macro Test    0.955556   0.955556     0.955556           0.911275   \n",
       "\n",
       "                 Neural Network  \n",
       "Precision Train        0.973183  \n",
       "Precision Test         0.955556  \n",
       "Recall Train           0.970588  \n",
       "Recall Test            0.955556  \n",
       "Accuracy Train         0.970588  \n",
       "Accuracy Test          0.955556  \n",
       "F1 macro Train         0.970608  \n",
       "F1 macro Test          0.955556  "
      ]
     },
     "execution_count": 78,
     "metadata": {},
     "output_type": "execute_result"
    }
   ],
   "source": [
    "# Updated Evaluation metric Score Chart\n",
    "score['Neural Network'] = neural_score\n",
    "score"
   ]
  },
  {
   "cell_type": "markdown",
   "id": "6b0114d3-c32e-4393-ae5a-1bd69af7d5ff",
   "metadata": {},
   "source": [
    "### 2.Cross-Validation & Hyperparameter Tuning "
   ]
  },
  {
   "cell_type": "code",
   "execution_count": 79,
   "id": "f69fe6f4-a509-4c82-b160-55feca8553c0",
   "metadata": {},
   "outputs": [
    {
     "name": "stdout",
     "output_type": "stream",
     "text": [
      "Best hyperparameters:  {'hidden_layer_sizes': np.int64(40), 'alpha': np.float64(0.0044)}\n"
     ]
    }
   ],
   "source": [
    "# ML Model - 7 Implementation with hyperparameter optimization techniques (i.e., GridSearch CV, RandomSearch CV, Bayesian Optimization etc.)\n",
    "# Define the hyperparameter grid\n",
    "param_grid = {'hidden_layer_sizes': np.arange(10, 100, 10),\n",
    "              'alpha': np.arange(0.0001, 0.01, 0.0001)}\n",
    "\n",
    "# Initialize the model\n",
    "neural = MLPClassifier(random_state=0)\n",
    "\n",
    "# Repeated stratified kfold\n",
    "rskf = RepeatedStratifiedKFold(n_splits=3, n_repeats=3, random_state=0)\n",
    "\n",
    "# Initialize RandomizedSearchCV\n",
    "random_search = RandomizedSearchCV(neural, param_grid, n_iter=10, cv=rskf, n_jobs=-1)\n",
    "\n",
    "# Fit the RandomizedSearchCV to the training data\n",
    "random_search.fit(X_train, y_train)\n",
    "\n",
    "# Select the best hyperparameters\n",
    "best_params = random_search.best_params_\n",
    "print(\"Best hyperparameters: \", best_params)"
   ]
  },
  {
   "cell_type": "code",
   "execution_count": 80,
   "id": "5734b65d-f7a5-42d2-aa88-6dbe72f1ddb2",
   "metadata": {},
   "outputs": [],
   "source": [
    "# Initiate model with best parameters\n",
    "nn_model2 = MLPClassifier(hidden_layer_sizes = best_params['hidden_layer_sizes'],\n",
    "                        alpha = best_params['alpha'],\n",
    "                        random_state = 0)"
   ]
  },
  {
   "cell_type": "code",
   "execution_count": 81,
   "id": "3bed9e4a-31c9-4ce8-890f-b87e7c2b07db",
   "metadata": {},
   "outputs": [
    {
     "name": "stdout",
     "output_type": "stream",
     "text": [
      "\n",
      "Confusion Matrix:\n"
     ]
    },
    {
     "data": {
      "image/png": "[encoded data removed]",
      "text/plain": [
       "<Figure size 1100x400 with 4 Axes>"
      ]
     },
     "metadata": {},
     "output_type": "display_data"
    },
    {
     "name": "stdout",
     "output_type": "stream",
     "text": [
      "\n",
      "Train Classification Report:\n",
      "|              |   precision |   recall |   f1-score |    support |\n",
      "|:-------------|------------:|---------:|-----------:|-----------:|\n",
      "| 0            |    1        | 1        |   1        |  36        |\n",
      "| 1            |    1        | 0.942857 |   0.970588 |  35        |\n",
      "| 2            |    0.939394 | 1        |   0.96875  |  31        |\n",
      "| accuracy     |    0.980392 | 0.980392 |   0.980392 |   0.980392 |\n",
      "| macro avg    |    0.979798 | 0.980952 |   0.979779 | 102        |\n",
      "| weighted avg |    0.981581 | 0.980392 |   0.98041  | 102        |\n",
      "\n",
      "Test Classification Report:\n",
      "|              |   precision |   recall |   f1-score |   support |\n",
      "|:-------------|------------:|---------:|-----------:|----------:|\n",
      "| 0            |    1        | 1        |   1        | 12        |\n",
      "| 1            |    1        | 0.933333 |   0.965517 | 15        |\n",
      "| 2            |    0.947368 | 1        |   0.972973 | 18        |\n",
      "| accuracy     |    0.977778 | 0.977778 |   0.977778 |  0.977778 |\n",
      "| macro avg    |    0.982456 | 0.977778 |   0.979497 | 45        |\n",
      "| weighted avg |    0.978947 | 0.977778 |   0.977695 | 45        |\n"
     ]
    }
   ],
   "source": [
    "# Visualizing evaluation Metric Score chart\n",
    "neural2_score = evaluate_model(nn_model2, X_train, X_test, y_train, y_test)"
   ]
  },
  {
   "cell_type": "code",
   "execution_count": 82,
   "id": "8f5a6948-a230-4e76-9aee-baf89157d533",
   "metadata": {},
   "outputs": [],
   "source": [
    "score['Neural Network tuned']= neural2_score"
   ]
  },
  {
   "cell_type": "code",
   "execution_count": 83,
   "id": "11b09a92-bdc0-4195-954f-79057545298a",
   "metadata": {},
   "outputs": [
    {
     "data": {
      "text/html": [
       "<div>\n",
       "<style scoped>\n",
       "    .dataframe tbody tr th:only-of-type {\n",
       "        vertical-align: middle;\n",
       "    }\n",
       "\n",
       "    .dataframe tbody tr th {\n",
       "        vertical-align: top;\n",
       "    }\n",
       "\n",
       "    .dataframe thead th {\n",
       "        text-align: right;\n",
       "    }\n",
       "</style>\n",
       "<table border=\"1\" class=\"dataframe\">\n",
       "  <thead>\n",
       "    <tr style=\"text-align: right;\">\n",
       "      <th></th>\n",
       "      <th>Logistic regression</th>\n",
       "      <th>Decision Tree</th>\n",
       "      <th>Decision Tree tuned</th>\n",
       "      <th>Random Forest</th>\n",
       "      <th>Random Forest tuned</th>\n",
       "      <th>SVM</th>\n",
       "      <th>SVM tuned</th>\n",
       "      <th>XGB</th>\n",
       "      <th>XGB tuned</th>\n",
       "      <th>Naive Bayes</th>\n",
       "      <th>Naive Bayes tuned</th>\n",
       "      <th>Neural Network</th>\n",
       "      <th>Neural Network tuned</th>\n",
       "    </tr>\n",
       "  </thead>\n",
       "  <tbody>\n",
       "    <tr>\n",
       "      <th>Precision Train</th>\n",
       "      <td>0.970806</td>\n",
       "      <td>1.000000</td>\n",
       "      <td>0.964806</td>\n",
       "      <td>1.000000</td>\n",
       "      <td>0.960784</td>\n",
       "      <td>0.990502</td>\n",
       "      <td>0.990502</td>\n",
       "      <td>1.000000</td>\n",
       "      <td>1.000000</td>\n",
       "      <td>0.961698</td>\n",
       "      <td>0.970806</td>\n",
       "      <td>0.973183</td>\n",
       "      <td>0.981581</td>\n",
       "    </tr>\n",
       "    <tr>\n",
       "      <th>Precision Test</th>\n",
       "      <td>0.955556</td>\n",
       "      <td>0.934085</td>\n",
       "      <td>0.955556</td>\n",
       "      <td>0.955556</td>\n",
       "      <td>0.978947</td>\n",
       "      <td>0.978947</td>\n",
       "      <td>0.955556</td>\n",
       "      <td>0.955556</td>\n",
       "      <td>0.955556</td>\n",
       "      <td>0.955556</td>\n",
       "      <td>0.916176</td>\n",
       "      <td>0.955556</td>\n",
       "      <td>0.978947</td>\n",
       "    </tr>\n",
       "    <tr>\n",
       "      <th>Recall Train</th>\n",
       "      <td>0.970588</td>\n",
       "      <td>1.000000</td>\n",
       "      <td>0.960784</td>\n",
       "      <td>1.000000</td>\n",
       "      <td>0.960784</td>\n",
       "      <td>0.990196</td>\n",
       "      <td>0.990196</td>\n",
       "      <td>1.000000</td>\n",
       "      <td>1.000000</td>\n",
       "      <td>0.960784</td>\n",
       "      <td>0.970588</td>\n",
       "      <td>0.970588</td>\n",
       "      <td>0.980392</td>\n",
       "    </tr>\n",
       "    <tr>\n",
       "      <th>Recall Test</th>\n",
       "      <td>0.955556</td>\n",
       "      <td>0.933333</td>\n",
       "      <td>0.955556</td>\n",
       "      <td>0.955556</td>\n",
       "      <td>0.977778</td>\n",
       "      <td>0.977778</td>\n",
       "      <td>0.955556</td>\n",
       "      <td>0.955556</td>\n",
       "      <td>0.955556</td>\n",
       "      <td>0.955556</td>\n",
       "      <td>0.911111</td>\n",
       "      <td>0.955556</td>\n",
       "      <td>0.977778</td>\n",
       "    </tr>\n",
       "    <tr>\n",
       "      <th>Accuracy Train</th>\n",
       "      <td>0.970588</td>\n",
       "      <td>1.000000</td>\n",
       "      <td>0.960784</td>\n",
       "      <td>1.000000</td>\n",
       "      <td>0.960784</td>\n",
       "      <td>0.990196</td>\n",
       "      <td>0.990196</td>\n",
       "      <td>1.000000</td>\n",
       "      <td>1.000000</td>\n",
       "      <td>0.960784</td>\n",
       "      <td>0.970588</td>\n",
       "      <td>0.970588</td>\n",
       "      <td>0.980392</td>\n",
       "    </tr>\n",
       "    <tr>\n",
       "      <th>Accuracy Test</th>\n",
       "      <td>0.955556</td>\n",
       "      <td>0.933333</td>\n",
       "      <td>0.955556</td>\n",
       "      <td>0.955556</td>\n",
       "      <td>0.977778</td>\n",
       "      <td>0.977778</td>\n",
       "      <td>0.955556</td>\n",
       "      <td>0.955556</td>\n",
       "      <td>0.955556</td>\n",
       "      <td>0.955556</td>\n",
       "      <td>0.911111</td>\n",
       "      <td>0.955556</td>\n",
       "      <td>0.977778</td>\n",
       "    </tr>\n",
       "    <tr>\n",
       "      <th>F1 macro Train</th>\n",
       "      <td>0.970554</td>\n",
       "      <td>1.000000</td>\n",
       "      <td>0.960492</td>\n",
       "      <td>1.000000</td>\n",
       "      <td>0.960784</td>\n",
       "      <td>0.990203</td>\n",
       "      <td>0.990203</td>\n",
       "      <td>1.000000</td>\n",
       "      <td>1.000000</td>\n",
       "      <td>0.960675</td>\n",
       "      <td>0.970554</td>\n",
       "      <td>0.970608</td>\n",
       "      <td>0.980410</td>\n",
       "    </tr>\n",
       "    <tr>\n",
       "      <th>F1 macro Test</th>\n",
       "      <td>0.955556</td>\n",
       "      <td>0.933085</td>\n",
       "      <td>0.955556</td>\n",
       "      <td>0.955556</td>\n",
       "      <td>0.977695</td>\n",
       "      <td>0.977695</td>\n",
       "      <td>0.955556</td>\n",
       "      <td>0.955556</td>\n",
       "      <td>0.955556</td>\n",
       "      <td>0.955556</td>\n",
       "      <td>0.911275</td>\n",
       "      <td>0.955556</td>\n",
       "      <td>0.977695</td>\n",
       "    </tr>\n",
       "  </tbody>\n",
       "</table>\n",
       "</div>"
      ],
      "text/plain": [
       "                 Logistic regression  Decision Tree  Decision Tree tuned  \\\n",
       "Precision Train             0.970806       1.000000             0.964806   \n",
       "Precision Test              0.955556       0.934085             0.955556   \n",
       "Recall Train                0.970588       1.000000             0.960784   \n",
       "Recall Test                 0.955556       0.933333             0.955556   \n",
       "Accuracy Train              0.970588       1.000000             0.960784   \n",
       "Accuracy Test               0.955556       0.933333             0.955556   \n",
       "F1 macro Train              0.970554       1.000000             0.960492   \n",
       "F1 macro Test               0.955556       0.933085             0.955556   \n",
       "\n",
       "                 Random Forest  Random Forest tuned       SVM  SVM tuned  \\\n",
       "Precision Train       1.000000             0.960784  0.990502   0.990502   \n",
       "Precision Test        0.955556             0.978947  0.978947   0.955556   \n",
       "Recall Train          1.000000             0.960784  0.990196   0.990196   \n",
       "Recall Test           0.955556             0.977778  0.977778   0.955556   \n",
       "Accuracy Train        1.000000             0.960784  0.990196   0.990196   \n",
       "Accuracy Test         0.955556             0.977778  0.977778   0.955556   \n",
       "F1 macro Train        1.000000             0.960784  0.990203   0.990203   \n",
       "F1 macro Test         0.955556             0.977695  0.977695   0.955556   \n",
       "\n",
       "                      XGB  XGB tuned  Naive Bayes  Naive Bayes tuned  \\\n",
       "Precision Train  1.000000   1.000000     0.961698           0.970806   \n",
       "Precision Test   0.955556   0.955556     0.955556           0.916176   \n",
       "Recall Train     1.000000   1.000000     0.960784           0.970588   \n",
       "Recall Test      0.955556   0.955556     0.955556           0.911111   \n",
       "Accuracy Train   1.000000   1.000000     0.960784           0.970588   \n",
       "Accuracy Test    0.955556   0.955556     0.955556           0.911111   \n",
       "F1 macro Train   1.000000   1.000000     0.960675           0.970554   \n",
       "F1 macro Test    0.955556   0.955556     0.955556           0.911275   \n",
       "\n",
       "                 Neural Network  Neural Network tuned  \n",
       "Precision Train        0.973183              0.981581  \n",
       "Precision Test         0.955556              0.978947  \n",
       "Recall Train           0.970588              0.980392  \n",
       "Recall Test            0.955556              0.977778  \n",
       "Accuracy Train         0.970588              0.980392  \n",
       "Accuracy Test          0.955556              0.977778  \n",
       "F1 macro Train         0.970608              0.980410  \n",
       "F1 macro Test          0.955556              0.977695  "
      ]
     },
     "execution_count": 83,
     "metadata": {},
     "output_type": "execute_result"
    }
   ],
   "source": [
    "\n",
    "\n",
    "# Updated Evaluation metric Score Chart\n",
    "score\n",
    "     "
   ]
  },
  {
   "cell_type": "raw",
   "id": "30869fe4-3409-41d0-a22a-4562c3135428",
   "metadata": {},
   "source": [
    "It appears that hyperparameter tuning improve the performance of the neural network model on the test set. The precision, recall, accuracy and F1 scores on the test set are increased for the tuned neural network model compare to untuned neural network model."
   ]
  },
  {
   "cell_type": "code",
   "execution_count": 84,
   "id": "a845a542-ae06-4714-823c-ee56950f39af",
   "metadata": {},
   "outputs": [
    {
     "name": "stdout",
     "output_type": "stream",
     "text": [
      "|                 |   Logistic regression |   Decision Tree |   Decision Tree tuned |   Random Forest |   Random Forest tuned |      SVM |   SVM tuned |      XGB |   XGB tuned |   Naive Bayes |   Naive Bayes tuned |   Neural Network |   Neural Network tuned |\n",
      "|:----------------|----------------------:|----------------:|----------------------:|----------------:|----------------------:|---------:|------------:|---------:|------------:|--------------:|--------------------:|-----------------:|-----------------------:|\n",
      "| Precision Train |              0.970806 |        1        |              0.964806 |        1        |              0.960784 | 0.990502 |    0.990502 | 1        |    1        |      0.961698 |            0.970806 |         0.973183 |               0.981581 |\n",
      "| Precision Test  |              0.955556 |        0.934085 |              0.955556 |        0.955556 |              0.978947 | 0.978947 |    0.955556 | 0.955556 |    0.955556 |      0.955556 |            0.916176 |         0.955556 |               0.978947 |\n",
      "| Recall Train    |              0.970588 |        1        |              0.960784 |        1        |              0.960784 | 0.990196 |    0.990196 | 1        |    1        |      0.960784 |            0.970588 |         0.970588 |               0.980392 |\n",
      "| Recall Test     |              0.955556 |        0.933333 |              0.955556 |        0.955556 |              0.977778 | 0.977778 |    0.955556 | 0.955556 |    0.955556 |      0.955556 |            0.911111 |         0.955556 |               0.977778 |\n",
      "| Accuracy Train  |              0.970588 |        1        |              0.960784 |        1        |              0.960784 | 0.990196 |    0.990196 | 1        |    1        |      0.960784 |            0.970588 |         0.970588 |               0.980392 |\n",
      "| Accuracy Test   |              0.955556 |        0.933333 |              0.955556 |        0.955556 |              0.977778 | 0.977778 |    0.955556 | 0.955556 |    0.955556 |      0.955556 |            0.911111 |         0.955556 |               0.977778 |\n",
      "| F1 macro Train  |              0.970554 |        1        |              0.960492 |        1        |              0.960784 | 0.990203 |    0.990203 | 1        |    1        |      0.960675 |            0.970554 |         0.970608 |               0.98041  |\n",
      "| F1 macro Test   |              0.955556 |        0.933085 |              0.955556 |        0.955556 |              0.977695 | 0.977695 |    0.955556 | 0.955556 |    0.955556 |      0.955556 |            0.911275 |         0.955556 |               0.977695 |\n"
     ]
    }
   ],
   "source": [
    "\n",
    "\n",
    "print(score.to_markdown())"
   ]
  },
  {
   "cell_type": "markdown",
   "id": "22e770f7-7b2d-4088-8c58-aa6511073f4d",
   "metadata": {},
   "source": [
    "# Selection of best model"
   ]
  },
  {
   "cell_type": "code",
   "execution_count": 85,
   "id": "f3576878-6d1b-4a79-a769-67723e663442",
   "metadata": {},
   "outputs": [
    {
     "data": {
      "text/html": [
       "<div>\n",
       "<style scoped>\n",
       "    .dataframe tbody tr th:only-of-type {\n",
       "        vertical-align: middle;\n",
       "    }\n",
       "\n",
       "    .dataframe tbody tr th {\n",
       "        vertical-align: top;\n",
       "    }\n",
       "\n",
       "    .dataframe thead th {\n",
       "        text-align: right;\n",
       "    }\n",
       "</style>\n",
       "<table border=\"1\" class=\"dataframe\">\n",
       "  <thead>\n",
       "    <tr style=\"text-align: right;\">\n",
       "      <th></th>\n",
       "      <th>Precision Train</th>\n",
       "      <th>Precision Test</th>\n",
       "      <th>Recall Train</th>\n",
       "      <th>Recall Test</th>\n",
       "      <th>Accuracy Train</th>\n",
       "      <th>Accuracy Test</th>\n",
       "      <th>F1 macro Train</th>\n",
       "      <th>F1 macro Test</th>\n",
       "    </tr>\n",
       "  </thead>\n",
       "  <tbody>\n",
       "    <tr>\n",
       "      <th>Logistic regression</th>\n",
       "      <td>0.970806</td>\n",
       "      <td>0.955556</td>\n",
       "      <td>0.970588</td>\n",
       "      <td>0.955556</td>\n",
       "      <td>0.970588</td>\n",
       "      <td>0.955556</td>\n",
       "      <td>0.970554</td>\n",
       "      <td>0.955556</td>\n",
       "    </tr>\n",
       "    <tr>\n",
       "      <th>Decision Tree tuned</th>\n",
       "      <td>0.964806</td>\n",
       "      <td>0.955556</td>\n",
       "      <td>0.960784</td>\n",
       "      <td>0.955556</td>\n",
       "      <td>0.960784</td>\n",
       "      <td>0.955556</td>\n",
       "      <td>0.960492</td>\n",
       "      <td>0.955556</td>\n",
       "    </tr>\n",
       "    <tr>\n",
       "      <th>Random Forest tuned</th>\n",
       "      <td>0.960784</td>\n",
       "      <td>0.978947</td>\n",
       "      <td>0.960784</td>\n",
       "      <td>0.977778</td>\n",
       "      <td>0.960784</td>\n",
       "      <td>0.977778</td>\n",
       "      <td>0.960784</td>\n",
       "      <td>0.977695</td>\n",
       "    </tr>\n",
       "    <tr>\n",
       "      <th>Naive Bayes</th>\n",
       "      <td>0.961698</td>\n",
       "      <td>0.955556</td>\n",
       "      <td>0.960784</td>\n",
       "      <td>0.955556</td>\n",
       "      <td>0.960784</td>\n",
       "      <td>0.955556</td>\n",
       "      <td>0.960675</td>\n",
       "      <td>0.955556</td>\n",
       "    </tr>\n",
       "    <tr>\n",
       "      <th>Naive Bayes tuned</th>\n",
       "      <td>0.970806</td>\n",
       "      <td>0.916176</td>\n",
       "      <td>0.970588</td>\n",
       "      <td>0.911111</td>\n",
       "      <td>0.970588</td>\n",
       "      <td>0.911111</td>\n",
       "      <td>0.970554</td>\n",
       "      <td>0.911275</td>\n",
       "    </tr>\n",
       "    <tr>\n",
       "      <th>Neural Network</th>\n",
       "      <td>0.973183</td>\n",
       "      <td>0.955556</td>\n",
       "      <td>0.970588</td>\n",
       "      <td>0.955556</td>\n",
       "      <td>0.970588</td>\n",
       "      <td>0.955556</td>\n",
       "      <td>0.970608</td>\n",
       "      <td>0.955556</td>\n",
       "    </tr>\n",
       "  </tbody>\n",
       "</table>\n",
       "</div>"
      ],
      "text/plain": [
       "                     Precision Train  Precision Test  Recall Train  \\\n",
       "Logistic regression         0.970806        0.955556      0.970588   \n",
       "Decision Tree tuned         0.964806        0.955556      0.960784   \n",
       "Random Forest tuned         0.960784        0.978947      0.960784   \n",
       "Naive Bayes                 0.961698        0.955556      0.960784   \n",
       "Naive Bayes tuned           0.970806        0.916176      0.970588   \n",
       "Neural Network              0.973183        0.955556      0.970588   \n",
       "\n",
       "                     Recall Test  Accuracy Train  Accuracy Test  \\\n",
       "Logistic regression     0.955556        0.970588       0.955556   \n",
       "Decision Tree tuned     0.955556        0.960784       0.955556   \n",
       "Random Forest tuned     0.977778        0.960784       0.977778   \n",
       "Naive Bayes             0.955556        0.960784       0.955556   \n",
       "Naive Bayes tuned       0.911111        0.970588       0.911111   \n",
       "Neural Network          0.955556        0.970588       0.955556   \n",
       "\n",
       "                     F1 macro Train  F1 macro Test  \n",
       "Logistic regression        0.970554       0.955556  \n",
       "Decision Tree tuned        0.960492       0.955556  \n",
       "Random Forest tuned        0.960784       0.977695  \n",
       "Naive Bayes                0.960675       0.955556  \n",
       "Naive Bayes tuned          0.970554       0.911275  \n",
       "Neural Network             0.970608       0.955556  "
      ]
     },
     "execution_count": 85,
     "metadata": {},
     "output_type": "execute_result"
    }
   ],
   "source": [
    "# Removing the overfitted models which have precision, recall, f1 scores for train as 1\n",
    "score_t = score.transpose()  # taking transpose of the score dataframe to create new difference column\n",
    "remove_models = score_t[score_t['Recall Train']>=0.98].index  # creating a list of models which have 1 for train and score_t['Accuracy Train']==1.0 and score_t['Precision Train']==1.0 and score_t['F1 macro Train']==1.0\n",
    "remove_models\n",
    " # creating a new dataframe with required models\n",
    "adj = score_t.drop(remove_models) \n",
    "adj\n",
    "     \n"
   ]
  },
  {
   "cell_type": "code",
   "execution_count": 86,
   "id": "4116a34a-b4be-476b-81ef-a321a34b71e1",
   "metadata": {},
   "outputs": [],
   "source": [
    "def select_best_model(df, metrics):\n",
    "\n",
    "    best_models = {}\n",
    "    for metric in metrics:\n",
    "        max_test = df[metric + ' Test'].max()\n",
    "        best_model_test = df[df[metric + ' Test'] == max_test].index[0]\n",
    "        best_model = best_model_test\n",
    "        best_models[metric] = best_model\n",
    "    return best_models"
   ]
  },
  {
   "cell_type": "code",
   "execution_count": 87,
   "id": "61a74ec9-bc32-4143-9505-ba82ddc8599b",
   "metadata": {},
   "outputs": [
    {
     "name": "stdout",
     "output_type": "stream",
     "text": [
      "The best models are:\n",
      "Precision: Random Forest tuned - 0.9789\n",
      "Recall: Random Forest tuned - 0.9778\n",
      "Accuracy: Random Forest tuned - 0.9778\n",
      "F1 macro: Random Forest tuned - 0.9777\n"
     ]
    }
   ],
   "source": [
    "\n",
    "metrics = ['Precision', 'Recall', 'Accuracy', 'F1 macro']\n",
    "best_models = select_best_model(adj, metrics)\n",
    "print(\"The best models are:\")\n",
    "for metric, best_model in best_models.items():\n",
    "    print(f\"{metric}: {best_model} - {adj[metric+' Test'][best_model].round(4)}\")"
   ]
  },
  {
   "cell_type": "code",
   "execution_count": 88,
   "id": "1793ec4d-5729-4483-b365-32b47a11c5af",
   "metadata": {},
   "outputs": [
    {
     "name": "stdout",
     "output_type": "stream",
     "text": [
      "| Classification Model   |   Recall Train |   Recall Test |\n",
      "|:-----------------------|---------------:|--------------:|\n",
      "| Logistic regression    |       0.970588 |      0.955556 |\n",
      "| Decision Tree tuned    |       0.960784 |      0.955556 |\n",
      "| Random Forest tuned    |       0.960784 |      0.977778 |\n",
      "| Naive Bayes            |       0.960784 |      0.955556 |\n",
      "| Naive Bayes tuned      |       0.970588 |      0.911111 |\n",
      "| Neural Network         |       0.970588 |      0.955556 |\n"
     ]
    }
   ],
   "source": [
    "# Take recall as the primary evaluation metric\n",
    "score_smpl = score.transpose()\n",
    "remove_overfitting_models = score_smpl[score_smpl['Recall Train']>=0.98].index\n",
    "remove_overfitting_models\n",
    "new_score = score_smpl.drop(remove_overfitting_models)\n",
    "new_score = new_score.drop(['Precision Train','Precision Test','Accuracy Train','Accuracy Test','F1 macro Train','F1 macro Test'], axis=1)\n",
    "new_score.index.name = 'Classification Model'\n",
    "print(new_score.to_markdown())"
   ]
  },
  {
   "cell_type": "markdown",
   "id": "0ae37a7e-28cd-4ab4-8e34-a9ab5ce80ece",
   "metadata": {},
   "source": [
    " #### 1. Which Evaluation metrics did i consider for a positive business impact and why?"
   ]
  },
  {
   "cell_type": "raw",
   "id": "0f36495e-c2f0-434f-9183-61626966ff34",
   "metadata": {},
   "source": [
    "\n",
    "After carefully considering the potential consequences of false positives and false negatives in the context of our business objectives, I have selected recall as the primary evaluation metric for our Iris flower classification model. This means that our goal is to maximize the number of true positives (correctly identified the different iris flowers) while minimizing the number of false negatives (incorrectly identified the flowers not a iris flower). By doing so, we aim to ensure that we correctly identify as many different iris flowers, even if it means that we may have some false positives."
   ]
  },
  {
   "cell_type": "markdown",
   "id": "1de0a040-fea7-438c-bccd-64fc8ee50890",
   "metadata": {},
   "source": [
    "#### 2. Which ML model did i choose from the above created models as our final prediction model and why?"
   ]
  },
  {
   "cell_type": "raw",
   "id": "bd7ad896-e885-41b4-91d0-1b6dfef34666",
   "metadata": {},
   "source": [
    "After evaluating the performance of several machine learning models on the Iris dataset, I have selected the tuned Random Forest as our final prediction model. This decision was based on the model’s performance on our primary evaluation metric of recall, which measures the ability of the model to correctly identify different iris flowers. In our analysis, we found that the Random Forest (tuned) had the highest recall score among the models we evaluated.\n",
    "\n",
    "I choose recall as the primary evaluation metric because correctly identifying different iris flowers are critical to achieving our business objectives. By selecting a model with a high recall score, we aim to ensure that we correctly identify as many different iris flowers as possible, even if it means that we may have some false positives. Overall, we believe that the Random Forest (tuned) is the best choice for our needs and will help us achieve a positive business impact."
   ]
  },
  {
   "cell_type": "markdown",
   "id": "f885a150-ed7d-4566-a62f-d002ad30c8b2",
   "metadata": {},
   "source": [
    "# 3--- MODEL I CHOOSE FOR THE PREDICTION :)"
   ]
  },
  {
   "cell_type": "code",
   "execution_count": 97,
   "id": "43501234-8348-45d4-8215-175dcd1b7852",
   "metadata": {},
   "outputs": [
    {
     "name": "stdout",
     "output_type": "stream",
     "text": [
      "Iris-Setosa\n"
     ]
    }
   ],
   "source": [
    "# Define a list of category labels for reference.\n",
    "Category_RF = ['Iris-Setosa', 'Iris-Versicolor', 'Iris-Virginica']\n",
    "     \n",
    "\n",
    "# In this example, it's a data point with Sepal Length, Sepal Width, Petal Length, and Petal Width.\n",
    "x_rf = np.array([[4.1, 3.5, 3.4, 0.2]])\n",
    "\n",
    "# Use the tuned random forest model (rf_model2) to make a prediction.\n",
    "x_rf_prediction = rf_model2.predict(x_rf)\n",
    "x_rf_prediction[0]\n",
    "\n",
    "# Display the predicted category label.\n",
    "print(Category_RF[int(x_rf_prediction[0])])"
   ]
  },
  {
   "cell_type": "markdown",
   "id": "80099785-210e-4cd6-ae82-af6b4d0857d4",
   "metadata": {},
   "source": [
    "\n",
    "# CONCLUSION"
   ]
  },
  {
   "cell_type": "markdown",
   "id": "c185bd9f-36dd-484e-aa80-4c42c270e895",
   "metadata": {},
   "source": [
    "In the Iris flower classification project, the tuned Random Forest model has been selected as the final prediction model. The project aimed to classify Iris flowers into three distinct species: Iris-Setosa, Iris-Versicolor, and Iris-Virginica. After extensive data exploration, preprocessing, and model evaluation, the following conclusions can be drawn:\n",
    "\n",
    "Data Exploration: Through a thorough examination of the dataset, we gained insights into the characteristics and distributions of features. We found that Iris-Setosa exhibited distinct features compared to the other two species.\n",
    "\n",
    "Data Preprocessing: Data preprocessing steps, including handling missing values and encoding categorical variables, were performed to prepare the dataset for modeling.\n",
    "\n",
    "Model Selection: After experimenting with various machine learning models, tuned Random Forest was chosen as the final model due to its simplicity, interpretability, and good performance in classifying Iris species.\n",
    "\n",
    "Model Training and Evaluation: The Random Forest (tuned) model was trained on the training dataset and evaluated using appropriate metrics. The model demonstrated satisfactory accuracy and precision in classifying Iris species.\n",
    "\n",
    "Challenges and Future Work: The project encountered challenges related to feature engineering and model fine-tuning. Future work may involve exploring more advanced modeling techniques to improve classification accuracy further.\n",
    "\n",
    "Practical Application: The Iris flower classification model can be applied in real-world scenarios, such as botany and horticulture, to automate the identification of Iris species based on physical characteristics.\n",
    "\n",
    "In conclusion, the Iris flower classification project successfully employed Random Forest (tuned) as the final prediction model to classify Iris species. The project's outcomes have practical implications in the field of botany and offer valuable insights into feature importance for species differentiation. Further refinements and enhancements may lead to even more accurate and reliable classification models in the future."
   ]
  },
  {
   "cell_type": "code",
   "execution_count": null,
   "id": "8c43038b-9490-466d-9976-2771ca53ea70",
   "metadata": {},
   "outputs": [],
   "source": []
  }
 ],
 "metadata": {
  "kernelspec": {
   "display_name": "Python 3 (ipykernel)",
   "language": "python",
   "name": "python3"
  },
  "language_info": {
   "codemirror_mode": {
    "name": "ipython",
    "version": 3
   },
   "file_extension": ".py",
   "mimetype": "text/x-python",
   "name": "python",
   "nbconvert_exporter": "python",
   "pygments_lexer": "ipython3",
   "version": "3.13.0"
  }
 },
 "nbformat": 4,
 "nbformat_minor": 5
}
